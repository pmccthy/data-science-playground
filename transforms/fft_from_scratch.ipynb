{
 "cells": [
  {
   "cell_type": "markdown",
   "metadata": {},
   "source": [
    "# **FFT**"
   ]
  },
  {
   "cell_type": "markdown",
   "metadata": {},
   "source": [
    "This Notebook is for implementing the FFT algorithm for computing the DTFT in Python to understand its inner working..."
   ]
  },
  {
   "cell_type": "code",
   "execution_count": 1,
   "metadata": {},
   "outputs": [],
   "source": [
    "import numpy as np\n",
    "import matplotlib.pyplot as plt\n",
    "import timeit\n",
    "from scipy import "
   ]
  },
  {
   "cell_type": "markdown",
   "metadata": {},
   "source": [
    "## **Generate some sample data to play with**"
   ]
  },
  {
   "cell_type": "code",
   "execution_count": null,
   "metadata": {},
   "outputs": [],
   "source": []
  },
  {
   "cell_type": "markdown",
   "metadata": {},
   "source": [
    "## **Using standard libraries**"
   ]
  },
  {
   "cell_type": "code",
   "execution_count": null,
   "metadata": {},
   "outputs": [],
   "source": []
  },
  {
   "cell_type": "markdown",
   "metadata": {
    "tags": []
   },
   "source": [
    "## **From scratch**"
   ]
  },
  {
   "cell_type": "code",
   "execution_count": 1,
   "metadata": {},
   "outputs": [],
   "source": [
    "# function definitions\n",
    "def dft(x):\n",
    "    x = np.asarray(x, dtype=float)                                  # convert input to numpy array\n",
    "    N = x.shape[0]                                                  # number of samples in signal (and DFT)\n",
    "    n = np.arange(N)                                                # 'time-domain' axis\n",
    "    k = n.reshape((N,1))                                            # 'frequency-domain' axis\n",
    "    M = np.exp(-2j * np.pi * k * n / N)                             # matrix with values of n along one dim and k along the other\n",
    "    return np.dot(M, x)                                             # return vector along k dimension\n",
    "\n",
    "# define using recursion\n",
    "def fft(x):\n",
    "    x = np.asarray(x, dtype=float)                                  # convert image to numpy array\n",
    "    N = x.shape[0]                                                  # number of samples in signal (and DFT)\n",
    "    if N % 2 > 0:\n",
    "        raise ValueError(\"must be a power of 2\")\n",
    "    elif N <= 2:                                                    # only computes DFT once signal has been split into signals of length 2 \n",
    "        return dft(x)\n",
    "    else:\n",
    "        X_even = fft(x[::2])                                        # keeps splitting signal into 'odd' and 'even' part recursively\n",
    "        X_odd = fft(x[1::2])                                        # (recursion)\n",
    "        terms = np.exp(-2j * np.pi * np.arange(N) / N)\n",
    "        return np.concatenate([X_even + terms[:int(N/2)] * X_odd,\n",
    "                               X_even + terms[int(N/2):] * X_odd])\n",
    "\n",
    "# define using vector operations\n",
    "def fft_v(x):\n",
    "    x = np.asarray(x, dtype=float)\n",
    "    N = x.shape[0]\n",
    "    if np.log2(N) % 1 > 0:\n",
    "        raise ValueError(\"must be a power of 2\")\n",
    "        \n",
    "    N_min = min(N, 2)\n",
    "    \n",
    "    n = np.arange(N_min)\n",
    "    k = n[:, None]\n",
    "    M = np.exp(-2j * np.pi * n * k / N_min)\n",
    "    X = np.dot(M, x.reshape((N_min, -1)))\n",
    "    while X.shape[0] < N:\n",
    "        X_even = X[:, :int(X.shape[1] / 2)]\n",
    "        X_odd = X[:, int(X.shape[1] / 2):]\n",
    "        terms = np.exp(-1j * np.pi * np.arange(X.shape[0])\n",
    "                        / X.shape[0])[:, None]\n",
    "        X = np.vstack([X_even + terms * X_odd,\n",
    "                       X_even - terms * X_odd])\n",
    "    return X.ravel()"
   ]
  }
 ],
 "metadata": {
  "kernelspec": {
   "display_name": "Python 3.8.12 ('patrick-env')",
   "language": "python",
   "name": "python3812jvsc74a57bd01ded8953c21bf54553e055bf30d8ae35b3a728ea8ee523c6f2756aef38a3bdd4"
  },
  "language_info": {
   "codemirror_mode": {
    "name": "ipython",
    "version": 3
   },
   "file_extension": ".py",
   "mimetype": "text/x-python",
   "name": "python",
   "nbconvert_exporter": "python",
   "pygments_lexer": "ipython3",
   "version": "3.8.12"
  }
 },
 "nbformat": 4,
 "nbformat_minor": 5
}
