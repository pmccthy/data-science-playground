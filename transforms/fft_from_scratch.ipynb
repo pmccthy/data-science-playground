{
 "cells": [
  {
   "cell_type": "markdown",
   "id": "5fc51c92",
   "metadata": {},
   "source": [
    "# **FFT**"
   ]
  },
  {
   "cell_type": "markdown",
   "id": "230a111d",
   "metadata": {},
   "source": [
    "This Notebook is for implementing the FFT algorithm for computing the DTFT in Python to understand its inner working."
   ]
  },
  {
   "cell_type": "code",
   "execution_count": null,
   "id": "39785d33",
   "metadata": {},
   "outputs": [],
   "source": [
    "import numpy as np\n",
    "import matplotlib.pyplot as plt\n",
    "import timeit\n",
    "from scipy.fftpack import fft, fftshift, fftfreq"
   ]
  },
  {
   "cell_type": "markdown",
   "id": "51c49756",
   "metadata": {},
   "source": [
    "## **Generate some sample data to play with**"
   ]
  },
  {
   "cell_type": "code",
   "execution_count": null,
   "id": "4ef1bdb7",
   "metadata": {},
   "outputs": [],
   "source": [
    "fs = 1e3\n",
    "T = 10\n",
    "t_ax = np.arange(0, T, 1/fs)\n",
    "f = 10\n",
    "x = np.sin(2 * np.pi * t_ax)"
   ]
  },
  {
   "cell_type": "markdown",
   "id": "861c9a66",
   "metadata": {},
   "source": [
    "## **Using standard libraries**"
   ]
  },
  {
   "cell_type": "code",
   "execution_count": null,
   "id": "2bca1ca5",
   "metadata": {},
   "outputs": [],
   "source": [
    "# take the FFT\n",
    "X = fft(x)\n",
    "f_ax = fftfreq(len(x), 1/fs)\n",
    "X = fftshift(X)\n",
    "f_ax = fftshift(f_ax)"
   ]
  },
  {
   "cell_type": "code",
   "execution_count": null,
   "id": "32abebe9-f7a5-44b4-aee9-e13f4f5d2365",
   "metadata": {},
   "outputs": [],
   "source": [
    "# plot the PSD\n",
    "# look at the frequency spectrum of the original and transformed signals\n",
    "plt.figure(figsize=(10,5))\n",
    "plt.plot(f_ax, np.abs(X)**2, c='b', lw=2)\n",
    "plt.xlim(0,5)\n",
    "plt.xlabel(\"freq / Hz\")\n",
    "plt.ylabel(\"$|X[f]|^{2}$\")\n",
    "plt.title(\"PSD\")\n",
    "plt.show()"
   ]
  },
  {
   "cell_type": "markdown",
   "id": "58b1612a",
   "metadata": {
    "tags": []
   },
   "source": [
    "## **From scratch**"
   ]
  },
  {
   "cell_type": "markdown",
   "id": "2cb25f19-a17b-437d-9f4e-fc56a3681163",
   "metadata": {},
   "source": [
    "#### **Function definitions**"
   ]
  },
  {
   "cell_type": "code",
   "execution_count": null,
   "id": "f0129089",
   "metadata": {},
   "outputs": [],
   "source": [
    "# function definitions\n",
    "def dft(x):\n",
    "    x = np.asarray(x, dtype=float)                                  # convert input to numpy array\n",
    "    N = x.shape[0]                                                  # number of samples in signal (and DFT)\n",
    "    n = np.arange(N)                                                # 'time-domain' axis\n",
    "    k = n.reshape((N,1))                                            # 'frequency-domain' axis\n",
    "    M = np.exp(-2j * np.pi * k * n / N)                             # matrix with values of n along one dim and k along the other\n",
    "    return np.dot(M, x)                                             # return vector along k dimension"
   ]
  },
  {
   "cell_type": "code",
   "execution_count": null,
   "id": "860ca131-cc7c-44e8-bdc5-b767b918a6a8",
   "metadata": {},
   "outputs": [],
   "source": [
    "# define using recursion\n",
    "def fft_scratch(x):\n",
    "    x = np.asarray(x, dtype=float)                                  # convert image to numpy array\n",
    "    N = x.shape[0]                                                  # number of samples in signal (and DFT)\n",
    "    if N % 2 > 0:\n",
    "        raise ValueError(\"must be a power of 2\")\n",
    "    elif N <= 2:                                                    # only computes DFT once signal has been split into signals of length 2 \n",
    "        return dft(x)\n",
    "    else:\n",
    "        X_even = fft(x[::2])                                        # keeps splitting signal into 'odd' and 'even' part recursively\n",
    "        X_odd = fft(x[1::2])                                        # (recursion)\n",
    "        terms = np.exp(-2j * np.pi * np.arange(N) / N)\n",
    "        return np.concatenate([X_even + terms[:int(N/2)] * X_odd,\n",
    "                               X_even + terms[int(N/2):] * X_odd])"
   ]
  },
  {
   "cell_type": "code",
   "execution_count": null,
   "id": "f3a2a756-1f17-4ec9-aed1-d362ca3b7e93",
   "metadata": {},
   "outputs": [],
   "source": [
    "# define using vector operations\n",
    "def fft_scratch_v(x):\n",
    "    x = np.asarray(x, dtype=float)\n",
    "    N = x.shape[0]\n",
    "    if np.log2(N) % 1 > 0:\n",
    "        raise ValueError(\"must be a power of 2\")\n",
    "        \n",
    "    N_min = min(N, 2)\n",
    "    \n",
    "    n = np.arange(N_min)\n",
    "    k = n[:, None]\n",
    "    M = np.exp(-2j * np.pi * n * k / N_min)\n",
    "    X = np.dot(M, x.reshape((N_min, -1)))\n",
    "    while X.shape[0] < N:\n",
    "        X_even = X[:, :int(X.shape[1] / 2)]\n",
    "        X_odd = X[:, int(X.shape[1] / 2):]\n",
    "        terms = np.exp(-1j * np.pi * np.arange(X.shape[0])\n",
    "                        / X.shape[0])[:, None]\n",
    "        X = np.vstack([X_even + terms * X_odd,\n",
    "                       X_even - terms * X_odd])\n",
    "    return X.ravel()"
   ]
  },
  {
   "cell_type": "markdown",
   "id": "98788479-5dde-4339-91a4-c9f789acfaf1",
   "metadata": {},
   "source": [
    "#### **Compute PSD via FFTs**"
   ]
  },
  {
   "cell_type": "code",
   "execution_count": null,
   "id": "c134c21d-fe34-4f83-b673-ae8dc7dde6ab",
   "metadata": {},
   "outputs": [],
   "source": [
    "X = fft_scratch(x)"
   ]
  }
 ],
 "metadata": {
  "kernelspec": {
   "display_name": "Python 3 (ipykernel)",
   "language": "python",
   "name": "python3"
  },
  "language_info": {
   "codemirror_mode": {
    "name": "ipython",
    "version": 3
   },
   "file_extension": ".py",
   "mimetype": "text/x-python",
   "name": "python",
   "nbconvert_exporter": "python",
   "pygments_lexer": "ipython3",
   "version": "3.9.7"
  }
 },
 "nbformat": 4,
 "nbformat_minor": 5
}
