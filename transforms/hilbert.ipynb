{
 "cells": [
  {
   "cell_type": "markdown",
   "id": "e490c445-0ff2-4c31-8b44-2f52ff0df225",
   "metadata": {},
   "source": [
    "# **Hilbert Transform**"
   ]
  },
  {
   "cell_type": "markdown",
   "id": "c97b0b77-f3e5-4399-bab8-92a4e17b89b3",
   "metadata": {},
   "source": [
    "This Notebook is dedicated to exploring the Hilbert transform and its algorithmic implementation. A good explanation of the mathematics of the Hilbert transform can be found [here](https://google.com)"
   ]
  },
  {
   "cell_type": "code",
   "execution_count": 1,
   "id": "275f2787-1be1-4308-9856-967a48a67f92",
   "metadata": {},
   "outputs": [],
   "source": [
    "# import packages and modules"
   ]
  },
  {
   "cell_type": "code",
   "execution_count": 2,
   "id": "1f18bda2-99d2-48aa-8674-7059cb67dbb7",
   "metadata": {},
   "outputs": [],
   "source": [
    "# generate some data to play with"
   ]
  },
  {
   "cell_type": "markdown",
   "id": "238c7705-aaf9-40fb-8bbb-8fac17545f34",
   "metadata": {},
   "source": [
    "## **Using the SciPy implementation**"
   ]
  },
  {
   "cell_type": "code",
   "execution_count": 3,
   "id": "a7abc086-2497-4da8-a694-5a65f66fb0e7",
   "metadata": {},
   "outputs": [],
   "source": [
    "# perform the Hilbert transform"
   ]
  },
  {
   "cell_type": "code",
   "execution_count": 4,
   "id": "82d5b7c0-8ef3-4815-aa2d-6068ebe16855",
   "metadata": {},
   "outputs": [],
   "source": [
    "# look at the frequency spectrum of the original and transformed signals"
   ]
  },
  {
   "cell_type": "markdown",
   "id": "7035a909-3cae-42c1-95ae-64b378b6008e",
   "metadata": {},
   "source": [
    "## **Compute using FFTs**"
   ]
  },
  {
   "cell_type": "code",
   "execution_count": null,
   "id": "cbe254c0-5032-4440-bd63-b9755a4331cf",
   "metadata": {},
   "outputs": [],
   "source": []
  },
  {
   "cell_type": "markdown",
   "id": "80d2abd4-fc15-47b6-a2ff-badf955ed4e9",
   "metadata": {},
   "source": [
    "## **Instantaneous phase and frequency**"
   ]
  },
  {
   "cell_type": "code",
   "execution_count": null,
   "id": "b87d2960-7b50-4941-be04-2db2087fa70e",
   "metadata": {},
   "outputs": [],
   "source": []
  }
 ],
 "metadata": {
  "kernelspec": {
   "display_name": "Python 3.8.12 ('patrick-env')",
   "language": "python",
   "name": "python3812jvsc74a57bd01ded8953c21bf54553e055bf30d8ae35b3a728ea8ee523c6f2756aef38a3bdd4"
  },
  "language_info": {
   "codemirror_mode": {
    "name": "ipython",
    "version": 3
   },
   "file_extension": ".py",
   "mimetype": "text/x-python",
   "name": "python",
   "nbconvert_exporter": "python",
   "pygments_lexer": "ipython3",
   "version": "3.8.12"
  }
 },
 "nbformat": 4,
 "nbformat_minor": 5
}
