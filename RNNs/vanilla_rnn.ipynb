{
  "nbformat": 4,
  "nbformat_minor": 0,
  "metadata": {
    "colab": {
      "name": "simple_rnn.ipynb",
      "provenance": [],
      "authorship_tag": "ABX9TyOm7qfF49na8bl/cWIXXZxY",
      "include_colab_link": true
    },
    "kernelspec": {
      "name": "python3",
      "display_name": "Python 3"
    },
    "language_info": {
      "name": "python"
    }
  },
  "cells": [
    {
      "cell_type": "markdown",
      "metadata": {
        "id": "view-in-github",
        "colab_type": "text"
      },
      "source": [
        "<a href=\"https://colab.research.google.com/github/pmccthy/ML-playground/blob/main/RNNs/simple_rnn.ipynb\" target=\"_parent\"><img src=\"https://colab.research.google.com/assets/colab-badge.svg\" alt=\"Open In Colab\"/></a>"
      ]
    },
    {
      "cell_type": "markdown",
      "source": [
        "# **Vanilla RNN models**"
      ],
      "metadata": {
        "id": "ptz2SduEL-Eg"
      }
    },
    {
      "cell_type": "markdown",
      "source": [
        "**Model 1**\n",
        "\n",
        "First simple RNN model based on the excellent tutorial at https://amitness.com/2020/04/recurrent-layers-keras/, which is a good starting point for understanding the general architecture and information flow of RNNs"
      ],
      "metadata": {
        "id": "XaG5bsw4MJJ3"
      }
    },
    {
      "cell_type": "code",
      "execution_count": 53,
      "metadata": {
        "id": "vEz44m8EZkA7"
      },
      "outputs": [],
      "source": [
        "%matplotlib inline\n",
        "import tensorflow as tf\n",
        "from keras.models import Sequential\n",
        "from keras.layers import SimpleRNN, Dense\n",
        "import numpy as np\n",
        "import matplotlib.pyplot as plt"
      ]
    },
    {
      "cell_type": "markdown",
      "source": [
        "* Input will be a sequence of length 3 with 2 features\n",
        "\n",
        "* Output of RNN cells/ hidden states will be length 4\n",
        "\n",
        "* The `return_sequences` argument is set to `False` because we only want the output of the last cell/ the last hidden state rather than the hidden states at each stage\n",
        "\n",
        "* If `return_sequences` was set to `True`, we would end up with an output of size 4 for each cell (each of which processes 1 sample of the input), so we would have output dimensions (3,4)\n"
      ],
      "metadata": {
        "id": "cBQqudPDIZm2"
      }
    },
    {
      "cell_type": "code",
      "source": [
        "model = Sequential()\n",
        "model.add(SimpleRNN(units=4, input_shape=(3, 2), return_sequences=False))"
      ],
      "metadata": {
        "id": "CM9pGphvHh9m"
      },
      "execution_count": 54,
      "outputs": []
    },
    {
      "cell_type": "code",
      "source": [
        "# add a dense layer of size 1 so we have a single value for the output\n",
        "model.add(Dense(1))"
      ],
      "metadata": {
        "id": "jW1k4d6bI6Dp"
      },
      "execution_count": 55,
      "outputs": []
    },
    {
      "cell_type": "code",
      "source": [
        "# create 100 samples of input data and pass it through the model \n",
        "# (at this point the model is not trained so the output will be meaningless, \n",
        "# but looking at the output dimensions is helpful)\n",
        "x = np.random.random([100,3,2])\n",
        "y = model(x)\n",
        "y.shape"
      ],
      "metadata": {
        "id": "uMDJzvKxKhzV",
        "outputId": "887ff267-cf4e-44f2-830a-31bfb6041c04",
        "colab": {
          "base_uri": "https://localhost:8080/"
        }
      },
      "execution_count": 56,
      "outputs": [
        {
          "output_type": "execute_result",
          "data": {
            "text/plain": [
              "TensorShape([100, 1])"
            ]
          },
          "metadata": {},
          "execution_count": 56
        }
      ]
    },
    {
      "cell_type": "markdown",
      "source": [
        "as expected, there is an output of size 1 for each input data point"
      ],
      "metadata": {
        "id": "5WAX_D0vUJCm"
      }
    },
    {
      "cell_type": "markdown",
      "source": [
        "**Model 2**\n",
        "\n",
        "Time to build a model that actually does something useful. This is based on the tutorial at https://www.datatechnotes.com/2018/12/rnn-example-with-keras-simplernn-in.html"
      ],
      "metadata": {
        "id": "lReKDez-UmRD"
      }
    },
    {
      "cell_type": "code",
      "source": [
        "# create some sample data\n",
        "fs = 100   \n",
        "f = 1     \n",
        "T = 10      \n",
        "N = fs * T  \n",
        "t = np.arange(0, N) / fs        \n",
        "x = np.sin(2 * np.pi * f * t) + np.random.random(N) / 2"
      ],
      "metadata": {
        "id": "8VWmu4OoQqYR"
      },
      "execution_count": 109,
      "outputs": []
    },
    {
      "cell_type": "code",
      "source": [
        "plt.plot(t,x)"
      ],
      "metadata": {
        "id": "TmUvRu36Rs2-",
        "outputId": "b767a2e8-56ee-48da-c52e-9968c8406966",
        "colab": {
          "base_uri": "https://localhost:8080/",
          "height": 283
        }
      },
      "execution_count": 110,
      "outputs": [
        {
          "output_type": "execute_result",
          "data": {
            "text/plain": [
              "[<matplotlib.lines.Line2D at 0x7efeb7387ad0>]"
            ]
          },
          "metadata": {},
          "execution_count": 110
        },
        {
          "output_type": "display_data",
          "data": {
            "image/png": "[encoded data removed]",
            "text/plain": [
              "<Figure size 432x288 with 1 Axes>"
            ]
          },
          "metadata": {
            "needs_background": "light"
          }
        }
      ]
    },
    {
      "cell_type": "code",
      "source": [
        "# split dataset into train and test\n",
        "split = 0.8\n",
        "train_idx = np.arange(1,int(split*N))\n",
        "test_idx = np.arange(int(split*N),N)\n",
        "train, test = x[train_idx], x[test_idx]"
      ],
      "metadata": {
        "id": "gPps5U8gTqdK"
      },
      "execution_count": 111,
      "outputs": []
    },
    {
      "cell_type": "code",
      "source": [
        "# define step (number of samples used to predict next sample)\n",
        "step = 4"
      ],
      "metadata": {
        "id": "QO31s8hOUVkM"
      },
      "execution_count": 112,
      "outputs": []
    },
    {
      "cell_type": "code",
      "source": [
        "# function to convert data to train and test matrices given step size\n",
        "def convert_to_matrix(data, step):\n",
        " X, Y =[], []\n",
        " for i in range(len(data)-step):\n",
        "  d = i + step  \n",
        "  X.append(data[i:d])\n",
        "  Y.append(data[d])\n",
        " return np.array(X), np.array(Y)"
      ],
      "metadata": {
        "id": "Ghp44Q9bdTNe"
      },
      "execution_count": 113,
      "outputs": []
    },
    {
      "cell_type": "code",
      "source": [
        "# convert data\n",
        "X_train, Y_train = convert_to_matrix(train, step)\n",
        "X_test, Y_test = convert_to_matrix(test, step)"
      ],
      "metadata": {
        "id": "3HHyoSGEgb1j"
      },
      "execution_count": 114,
      "outputs": []
    },
    {
      "cell_type": "code",
      "source": [
        "# reshape data to make compatible with keras as\n",
        "# keras expects matrix: (num_samples, num features, input length)\n",
        "# the second dimension will be 1 as we only have 1 feature\n",
        "X_train = np.reshape(X_train, (X_train.shape[0], 1, X_train.shape[1]))\n",
        "X_test = np.reshape(X_test, (X_test.shape[0], 1, X_test.shape[1]))\n",
        "X_train.shape\n",
        "X_test.shape\n"
      ],
      "metadata": {
        "id": "pRtbW_2Jgfkt",
        "outputId": "c32831c1-619e-4ba5-c22b-5f10741c014d",
        "colab": {
          "base_uri": "https://localhost:8080/"
        }
      },
      "execution_count": 115,
      "outputs": [
        {
          "output_type": "execute_result",
          "data": {
            "text/plain": [
              "(196, 1, 4)"
            ]
          },
          "metadata": {},
          "execution_count": 115
        }
      ]
    },
    {
      "cell_type": "code",
      "source": [
        "# build simple RNN model\n",
        "model = Sequential()\n",
        "model.add(SimpleRNN(units=32, input_shape=(1,step), activation=\"relu\"))\n",
        "model.add(Dense(8, activation=\"relu\")) \n",
        "model.add(Dense(1))\n",
        "model.compile(loss='mean_squared_error', optimizer='rmsprop')\n",
        "model.summary()"
      ],
      "metadata": {
        "id": "oOQes1NTjQPa",
        "outputId": "49c31bdc-4402-4d0c-f19d-4edfa0f33e6d",
        "colab": {
          "base_uri": "https://localhost:8080/"
        }
      },
      "execution_count": 116,
      "outputs": [
        {
          "output_type": "stream",
          "name": "stdout",
          "text": [
            "Model: \"sequential_2\"\n",
            "_________________________________________________________________\n",
            " Layer (type)                Output Shape              Param #   \n",
            "=================================================================\n",
            " simple_rnn_2 (SimpleRNN)    (None, 32)                1184      \n",
            "                                                                 \n",
            " dense_3 (Dense)             (None, 8)                 264       \n",
            "                                                                 \n",
            " dense_4 (Dense)             (None, 1)                 9         \n",
            "                                                                 \n",
            "=================================================================\n",
            "Total params: 1,457\n",
            "Trainable params: 1,457\n",
            "Non-trainable params: 0\n",
            "_________________________________________________________________\n"
          ]
        }
      ]
    },
    {
      "cell_type": "code",
      "source": [
        "# train model\n",
        "model.fit(X_train, Y_train, epochs=100, batch_size=16, verbose=2)\n",
        "predict_train = model.predict(X_train)\n",
        "predict_test = model.predict(X_test)\n",
        "predicted = np.concatenate((predict_train, predict_test), axis=0)"
      ],
      "metadata": {
        "id": "pcEvApyCjsM9",
        "outputId": "bad21d1c-e006-45b7-eb4f-4caf1c7c8f33",
        "colab": {
          "base_uri": "https://localhost:8080/"
        }
      },
      "execution_count": 119,
      "outputs": [
        {
          "output_type": "stream",
          "name": "stdout",
          "text": [
            "Epoch 1/100\n",
            "50/50 - 0s - loss: 0.0294 - 144ms/epoch - 3ms/step\n",
            "Epoch 2/100\n",
            "50/50 - 0s - loss: 0.0294 - 86ms/epoch - 2ms/step\n",
            "Epoch 3/100\n",
            "50/50 - 0s - loss: 0.0296 - 96ms/epoch - 2ms/step\n",
            "Epoch 4/100\n",
            "50/50 - 0s - loss: 0.0297 - 92ms/epoch - 2ms/step\n",
            "Epoch 5/100\n",
            "50/50 - 0s - loss: 0.0293 - 86ms/epoch - 2ms/step\n",
            "Epoch 6/100\n",
            "50/50 - 0s - loss: 0.0295 - 88ms/epoch - 2ms/step\n",
            "Epoch 7/100\n",
            "50/50 - 0s - loss: 0.0292 - 96ms/epoch - 2ms/step\n",
            "Epoch 8/100\n",
            "50/50 - 0s - loss: 0.0296 - 96ms/epoch - 2ms/step\n",
            "Epoch 9/100\n",
            "50/50 - 0s - loss: 0.0293 - 82ms/epoch - 2ms/step\n",
            "Epoch 10/100\n",
            "50/50 - 0s - loss: 0.0290 - 88ms/epoch - 2ms/step\n",
            "Epoch 11/100\n",
            "50/50 - 0s - loss: 0.0291 - 87ms/epoch - 2ms/step\n",
            "Epoch 12/100\n",
            "50/50 - 0s - loss: 0.0288 - 88ms/epoch - 2ms/step\n",
            "Epoch 13/100\n",
            "50/50 - 0s - loss: 0.0291 - 89ms/epoch - 2ms/step\n",
            "Epoch 14/100\n",
            "50/50 - 0s - loss: 0.0293 - 91ms/epoch - 2ms/step\n",
            "Epoch 15/100\n",
            "50/50 - 0s - loss: 0.0292 - 88ms/epoch - 2ms/step\n",
            "Epoch 16/100\n",
            "50/50 - 0s - loss: 0.0292 - 87ms/epoch - 2ms/step\n",
            "Epoch 17/100\n",
            "50/50 - 0s - loss: 0.0292 - 85ms/epoch - 2ms/step\n",
            "Epoch 18/100\n",
            "50/50 - 0s - loss: 0.0292 - 87ms/epoch - 2ms/step\n",
            "Epoch 19/100\n",
            "50/50 - 0s - loss: 0.0293 - 82ms/epoch - 2ms/step\n",
            "Epoch 20/100\n",
            "50/50 - 0s - loss: 0.0290 - 84ms/epoch - 2ms/step\n",
            "Epoch 21/100\n",
            "50/50 - 0s - loss: 0.0291 - 90ms/epoch - 2ms/step\n",
            "Epoch 22/100\n",
            "50/50 - 0s - loss: 0.0295 - 95ms/epoch - 2ms/step\n",
            "Epoch 23/100\n",
            "50/50 - 0s - loss: 0.0292 - 92ms/epoch - 2ms/step\n",
            "Epoch 24/100\n",
            "50/50 - 0s - loss: 0.0290 - 86ms/epoch - 2ms/step\n",
            "Epoch 25/100\n",
            "50/50 - 0s - loss: 0.0294 - 90ms/epoch - 2ms/step\n",
            "Epoch 26/100\n",
            "50/50 - 0s - loss: 0.0291 - 102ms/epoch - 2ms/step\n",
            "Epoch 27/100\n",
            "50/50 - 0s - loss: 0.0291 - 89ms/epoch - 2ms/step\n",
            "Epoch 28/100\n",
            "50/50 - 0s - loss: 0.0290 - 87ms/epoch - 2ms/step\n",
            "Epoch 29/100\n",
            "50/50 - 0s - loss: 0.0293 - 85ms/epoch - 2ms/step\n",
            "Epoch 30/100\n",
            "50/50 - 0s - loss: 0.0289 - 85ms/epoch - 2ms/step\n",
            "Epoch 31/100\n",
            "50/50 - 0s - loss: 0.0291 - 87ms/epoch - 2ms/step\n",
            "Epoch 32/100\n",
            "50/50 - 0s - loss: 0.0290 - 87ms/epoch - 2ms/step\n",
            "Epoch 33/100\n",
            "50/50 - 0s - loss: 0.0291 - 86ms/epoch - 2ms/step\n",
            "Epoch 34/100\n",
            "50/50 - 0s - loss: 0.0289 - 90ms/epoch - 2ms/step\n",
            "Epoch 35/100\n",
            "50/50 - 0s - loss: 0.0294 - 80ms/epoch - 2ms/step\n",
            "Epoch 36/100\n",
            "50/50 - 0s - loss: 0.0289 - 95ms/epoch - 2ms/step\n",
            "Epoch 37/100\n",
            "50/50 - 0s - loss: 0.0292 - 94ms/epoch - 2ms/step\n",
            "Epoch 38/100\n",
            "50/50 - 0s - loss: 0.0290 - 88ms/epoch - 2ms/step\n",
            "Epoch 39/100\n",
            "50/50 - 0s - loss: 0.0290 - 85ms/epoch - 2ms/step\n",
            "Epoch 40/100\n",
            "50/50 - 0s - loss: 0.0288 - 90ms/epoch - 2ms/step\n",
            "Epoch 41/100\n",
            "50/50 - 0s - loss: 0.0286 - 84ms/epoch - 2ms/step\n",
            "Epoch 42/100\n",
            "50/50 - 0s - loss: 0.0289 - 84ms/epoch - 2ms/step\n",
            "Epoch 43/100\n",
            "50/50 - 0s - loss: 0.0290 - 93ms/epoch - 2ms/step\n",
            "Epoch 44/100\n",
            "50/50 - 0s - loss: 0.0291 - 82ms/epoch - 2ms/step\n",
            "Epoch 45/100\n",
            "50/50 - 0s - loss: 0.0290 - 82ms/epoch - 2ms/step\n",
            "Epoch 46/100\n",
            "50/50 - 0s - loss: 0.0288 - 82ms/epoch - 2ms/step\n",
            "Epoch 47/100\n",
            "50/50 - 0s - loss: 0.0291 - 98ms/epoch - 2ms/step\n",
            "Epoch 48/100\n",
            "50/50 - 0s - loss: 0.0285 - 100ms/epoch - 2ms/step\n",
            "Epoch 49/100\n",
            "50/50 - 0s - loss: 0.0291 - 84ms/epoch - 2ms/step\n",
            "Epoch 50/100\n",
            "50/50 - 0s - loss: 0.0288 - 114ms/epoch - 2ms/step\n",
            "Epoch 51/100\n",
            "50/50 - 0s - loss: 0.0287 - 245ms/epoch - 5ms/step\n",
            "Epoch 52/100\n",
            "50/50 - 0s - loss: 0.0292 - 243ms/epoch - 5ms/step\n",
            "Epoch 53/100\n",
            "50/50 - 0s - loss: 0.0287 - 228ms/epoch - 5ms/step\n",
            "Epoch 54/100\n",
            "50/50 - 0s - loss: 0.0291 - 192ms/epoch - 4ms/step\n",
            "Epoch 55/100\n",
            "50/50 - 0s - loss: 0.0287 - 105ms/epoch - 2ms/step\n",
            "Epoch 56/100\n",
            "50/50 - 0s - loss: 0.0285 - 144ms/epoch - 3ms/step\n",
            "Epoch 57/100\n",
            "50/50 - 0s - loss: 0.0289 - 131ms/epoch - 3ms/step\n",
            "Epoch 58/100\n",
            "50/50 - 0s - loss: 0.0291 - 96ms/epoch - 2ms/step\n",
            "Epoch 59/100\n",
            "50/50 - 0s - loss: 0.0290 - 94ms/epoch - 2ms/step\n",
            "Epoch 60/100\n",
            "50/50 - 0s - loss: 0.0287 - 92ms/epoch - 2ms/step\n",
            "Epoch 61/100\n",
            "50/50 - 0s - loss: 0.0289 - 85ms/epoch - 2ms/step\n",
            "Epoch 62/100\n",
            "50/50 - 0s - loss: 0.0286 - 103ms/epoch - 2ms/step\n",
            "Epoch 63/100\n",
            "50/50 - 0s - loss: 0.0288 - 116ms/epoch - 2ms/step\n",
            "Epoch 64/100\n",
            "50/50 - 0s - loss: 0.0286 - 112ms/epoch - 2ms/step\n",
            "Epoch 65/100\n",
            "50/50 - 0s - loss: 0.0287 - 121ms/epoch - 2ms/step\n",
            "Epoch 66/100\n",
            "50/50 - 0s - loss: 0.0289 - 112ms/epoch - 2ms/step\n",
            "Epoch 67/100\n",
            "50/50 - 0s - loss: 0.0286 - 96ms/epoch - 2ms/step\n",
            "Epoch 68/100\n",
            "50/50 - 0s - loss: 0.0292 - 86ms/epoch - 2ms/step\n",
            "Epoch 69/100\n",
            "50/50 - 0s - loss: 0.0284 - 115ms/epoch - 2ms/step\n",
            "Epoch 70/100\n",
            "50/50 - 0s - loss: 0.0289 - 107ms/epoch - 2ms/step\n",
            "Epoch 71/100\n",
            "50/50 - 0s - loss: 0.0287 - 97ms/epoch - 2ms/step\n",
            "Epoch 72/100\n",
            "50/50 - 0s - loss: 0.0287 - 81ms/epoch - 2ms/step\n",
            "Epoch 73/100\n",
            "50/50 - 0s - loss: 0.0288 - 126ms/epoch - 3ms/step\n",
            "Epoch 74/100\n",
            "50/50 - 0s - loss: 0.0289 - 134ms/epoch - 3ms/step\n",
            "Epoch 75/100\n",
            "50/50 - 0s - loss: 0.0287 - 146ms/epoch - 3ms/step\n",
            "Epoch 76/100\n",
            "50/50 - 0s - loss: 0.0287 - 90ms/epoch - 2ms/step\n",
            "Epoch 77/100\n",
            "50/50 - 0s - loss: 0.0282 - 83ms/epoch - 2ms/step\n",
            "Epoch 78/100\n",
            "50/50 - 0s - loss: 0.0286 - 129ms/epoch - 3ms/step\n",
            "Epoch 79/100\n",
            "50/50 - 0s - loss: 0.0284 - 160ms/epoch - 3ms/step\n",
            "Epoch 80/100\n",
            "50/50 - 0s - loss: 0.0287 - 130ms/epoch - 3ms/step\n",
            "Epoch 81/100\n",
            "50/50 - 0s - loss: 0.0283 - 134ms/epoch - 3ms/step\n",
            "Epoch 82/100\n",
            "50/50 - 0s - loss: 0.0286 - 133ms/epoch - 3ms/step\n",
            "Epoch 83/100\n",
            "50/50 - 0s - loss: 0.0288 - 122ms/epoch - 2ms/step\n",
            "Epoch 84/100\n",
            "50/50 - 0s - loss: 0.0282 - 127ms/epoch - 3ms/step\n",
            "Epoch 85/100\n",
            "50/50 - 0s - loss: 0.0289 - 121ms/epoch - 2ms/step\n",
            "Epoch 86/100\n",
            "50/50 - 0s - loss: 0.0288 - 165ms/epoch - 3ms/step\n",
            "Epoch 87/100\n",
            "50/50 - 0s - loss: 0.0286 - 256ms/epoch - 5ms/step\n",
            "Epoch 88/100\n",
            "50/50 - 0s - loss: 0.0285 - 205ms/epoch - 4ms/step\n",
            "Epoch 89/100\n",
            "50/50 - 0s - loss: 0.0288 - 106ms/epoch - 2ms/step\n",
            "Epoch 90/100\n",
            "50/50 - 0s - loss: 0.0284 - 84ms/epoch - 2ms/step\n",
            "Epoch 91/100\n",
            "50/50 - 0s - loss: 0.0288 - 88ms/epoch - 2ms/step\n",
            "Epoch 92/100\n",
            "50/50 - 0s - loss: 0.0286 - 90ms/epoch - 2ms/step\n",
            "Epoch 93/100\n",
            "50/50 - 0s - loss: 0.0286 - 90ms/epoch - 2ms/step\n",
            "Epoch 94/100\n",
            "50/50 - 0s - loss: 0.0285 - 87ms/epoch - 2ms/step\n",
            "Epoch 95/100\n",
            "50/50 - 0s - loss: 0.0284 - 95ms/epoch - 2ms/step\n",
            "Epoch 96/100\n",
            "50/50 - 0s - loss: 0.0286 - 84ms/epoch - 2ms/step\n",
            "Epoch 97/100\n",
            "50/50 - 0s - loss: 0.0282 - 87ms/epoch - 2ms/step\n",
            "Epoch 98/100\n",
            "50/50 - 0s - loss: 0.0287 - 87ms/epoch - 2ms/step\n",
            "Epoch 99/100\n",
            "50/50 - 0s - loss: 0.0286 - 87ms/epoch - 2ms/step\n",
            "Epoch 100/100\n",
            "50/50 - 0s - loss: 0.0288 - 90ms/epoch - 2ms/step\n"
          ]
        }
      ]
    },
    {
      "cell_type": "code",
      "source": [
        "# evaluate loss\n",
        "score_train = model.evaluate(X_train, Y_train, verbose=0)"
      ],
      "metadata": {
        "id": "VtElLZB9kj8T"
      },
      "execution_count": 95,
      "outputs": []
    },
    {
      "cell_type": "code",
      "source": [
        "# visualise the results\n",
        "plt.plot(np.concatenate((train, test), axis=0), label='actual')\n",
        "plt.plot(predicted, label='predicted')\n",
        "plt.axvline(train_idx[-1], c='r')\n",
        "plt.legend()\n"
      ],
      "metadata": {
        "id": "0OMZGOwbkSWS",
        "outputId": "bd5821d2-afa6-4db7-8fe0-861dfb2b339b",
        "colab": {
          "base_uri": "https://localhost:8080/",
          "height": 283
        }
      },
      "execution_count": 138,
      "outputs": [
        {
          "output_type": "execute_result",
          "data": {
            "text/plain": [
              "<matplotlib.legend.Legend at 0x7efeb7802450>"
            ]
          },
          "metadata": {},
          "execution_count": 138
        },
        {
          "output_type": "display_data",
          "data": {
            "image/png": "[encoded data removed]",
            "text/plain": [
              "<Figure size 432x288 with 1 Axes>"
            ]
          },
          "metadata": {
            "needs_background": "light"
          }
        }
      ]
    }
  ]
}
