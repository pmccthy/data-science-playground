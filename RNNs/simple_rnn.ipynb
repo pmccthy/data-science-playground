{
  "nbformat": 4,
  "nbformat_minor": 0,
  "metadata": {
    "colab": {
      "name": "simple_rnn.ipynb",
      "provenance": [],
      "authorship_tag": "ABX9TyMC9nESHHTrzs7VjUEy1K5i",
      "include_colab_link": true
    },
    "kernelspec": {
      "name": "python3",
      "display_name": "Python 3"
    },
    "language_info": {
      "name": "python"
    }
  },
  "cells": [
    {
      "cell_type": "markdown",
      "metadata": {
        "id": "view-in-github",
        "colab_type": "text"
      },
      "source": [
        "<a href=\"https://colab.research.google.com/github/pmccthy/ML-playground/blob/main/RNNs/simple_rnn.ipynb\" target=\"_parent\"><img src=\"https://colab.research.google.com/assets/colab-badge.svg\" alt=\"Open In Colab\"/></a>"
      ]
    },
    {
      "cell_type": "markdown",
      "source": [
        "# **Simple RNN models**"
      ],
      "metadata": {
        "id": "ptz2SduEL-Eg"
      }
    },
    {
      "cell_type": "markdown",
      "source": [
        "**Model 1**\n",
        "\n",
        "First simple RNN model based on the excellent tutorial at https://amitness.com/2020/04/recurrent-layers-keras/, which is a good starting point for understanding the general architecture and information flow of RNNs"
      ],
      "metadata": {
        "id": "XaG5bsw4MJJ3"
      }
    },
    {
      "cell_type": "code",
      "execution_count": 56,
      "metadata": {
        "id": "vEz44m8EZkA7"
      },
      "outputs": [],
      "source": [
        "import tensorflow as tf\n",
        "from keras.models import Sequential\n",
        "from keras.layers import SimpleRNN, Dense\n",
        "import numpy as np"
      ]
    },
    {
      "cell_type": "markdown",
      "source": [
        "* Input will be a sequence of length 3 with 2 features\n",
        "\n",
        "* Output of RNN cells/ hidden states will be length 4\n",
        "\n",
        "* The `return_sequences` argument is set to `False` because we only want the output of the last cell/ the last hidden state rather than the hidden states at each stage\n",
        "\n",
        "* If `return_sequences` was set to `True`, we would end up with an output of size 4 for each cell (each of which processes 1 sample of the input), so we would have output dimensions (3,4)\n"
      ],
      "metadata": {
        "id": "cBQqudPDIZm2"
      }
    },
    {
      "cell_type": "code",
      "source": [
        "model = Sequential()\n",
        "model.add(SimpleRNN(4, input_shape=(3, 2), return_sequences=False))"
      ],
      "metadata": {
        "id": "CM9pGphvHh9m"
      },
      "execution_count": 57,
      "outputs": []
    },
    {
      "cell_type": "markdown",
      "source": [
        "add a dense layer of size 1 so we have a single value for the output"
      ],
      "metadata": {
        "id": "wfyUajcnI64v"
      }
    },
    {
      "cell_type": "code",
      "source": [
        "model.add(Dense(1))"
      ],
      "metadata": {
        "id": "jW1k4d6bI6Dp"
      },
      "execution_count": 58,
      "outputs": []
    },
    {
      "cell_type": "markdown",
      "source": [
        "create 100 samples of input data and pass it through the model (at this point the model is not trained so the output will be meaningless, but looking at the output dimensions is helpful)"
      ],
      "metadata": {
        "id": "YR_ILT2jSOLG"
      }
    },
    {
      "cell_type": "code",
      "source": [
        "x = np.random.random([100,3,2])\n",
        "y = model(x)\n",
        "y.shape"
      ],
      "metadata": {
        "id": "uMDJzvKxKhzV",
        "outputId": "fb3ecae2-4952-4753-bb61-c0afec49e09f",
        "colab": {
          "base_uri": "https://localhost:8080/"
        }
      },
      "execution_count": 59,
      "outputs": [
        {
          "output_type": "execute_result",
          "data": {
            "text/plain": [
              "TensorShape([100, 1])"
            ]
          },
          "metadata": {},
          "execution_count": 59
        }
      ]
    },
    {
      "cell_type": "markdown",
      "source": [
        "as expected, there is an output of size 1 for each input data point"
      ],
      "metadata": {
        "id": "5WAX_D0vUJCm"
      }
    },
    {
      "cell_type": "markdown",
      "source": [
        "**Model 2**\n",
        "\n",
        "Time to build a model that actually does something useful. "
      ],
      "metadata": {
        "id": "lReKDez-UmRD"
      }
    }
  ]
}