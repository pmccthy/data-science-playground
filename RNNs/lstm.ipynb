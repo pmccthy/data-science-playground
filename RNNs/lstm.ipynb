{
  "cells": [
    {
      "cell_type": "markdown",
      "metadata": {
        "id": "view-in-github",
        "colab_type": "text"
      },
      "source": [
        "<a href=\"https://colab.research.google.com/github/pmccthy/data-science-playground/blob/main/RNNs/lstm.ipynb\" target=\"_parent\"><img src=\"https://colab.research.google.com/assets/colab-badge.svg\" alt=\"Open In Colab\"/></a>"
      ]
    },
    {
      "cell_type": "markdown",
      "metadata": {
        "id": "agrPYetPXDNx"
      },
      "source": [
        "# **LSTM RNNs**"
      ]
    },
    {
      "cell_type": "markdown",
      "metadata": {
        "id": "dSNwmYK3XDNy"
      },
      "source": [
        "Based on the tutorial at https://machinelearningmastery.com/time-series-prediction-lstm-recurrent-neural-networks-python-keras/. As per this tutorial, we are attempting to do time series prediction (regression) with the International Airline Passengers dataset. It is worth bearing in mind that LSTMs were developed to solve the vanishing gradient problem. A good explanation of how they do so can be found here: https://medium.datadriveninvestor.com/how-do-lstm-networks-solve-the-problem-of-vanishing-gradients-a6784971a577. "
      ]
    },
    {
      "cell_type": "code",
      "execution_count": 2,
      "metadata": {
        "id": "vpquCOZoXDN0"
      },
      "outputs": [],
      "source": [
        "import numpy\n",
        "import matplotlib.pyplot as plt\n",
        "import pandas\n",
        "import math\n",
        "from keras.models import Sequential\n",
        "from keras.layers import Dense\n",
        "from keras.layers import LSTM\n",
        "from sklearn.preprocessing import MinMaxScaler\n",
        "from sklearn.metrics import mean_squared_error"
      ]
    },
    {
      "cell_type": "code",
      "execution_count": 3,
      "metadata": {
        "id": "GJ6myn_mXDN1"
      },
      "outputs": [],
      "source": [
        "# fix random seed for reproducibility\n",
        "numpy.random.seed(7)"
      ]
    },
    {
      "cell_type": "code",
      "execution_count": 4,
      "metadata": {
        "id": "BuFqslS6XDN2"
      },
      "outputs": [],
      "source": [
        "# load data (units are 1000's of passengers per month)\n",
        "dataframe = pandas.read_csv('data/airline-passengers.csv', usecols=[1], engine='python')\n",
        "dataset = dataframe.values\n",
        "dataset = dataset.astype('float32')"
      ]
    },
    {
      "cell_type": "code",
      "execution_count": 8,
      "metadata": {
        "id": "X30K_lzYXDN3",
        "colab": {
          "base_uri": "https://localhost:8080/",
          "height": 283
        },
        "outputId": "b1313bee-7cb5-4499-cf1f-0d1cb355906f"
      },
      "outputs": [
        {
          "output_type": "execute_result",
          "data": {
            "text/plain": [
              "[<matplotlib.lines.Line2D at 0x7f7d964572d0>]"
            ]
          },
          "metadata": {},
          "execution_count": 8
        },
        {
          "output_type": "display_data",
          "data": {
            "text/plain": [
              "<Figure size 432x288 with 1 Axes>"
            ],
            "image/png": "[encoded data removed]"
          },
          "metadata": {
            "needs_background": "light"
          }
        }
      ],
      "source": [
        "# normalise data\n",
        "scaler = MinMaxScaler(feature_range=(0, 1))\n",
        "dataset = scaler.fit_transform(dataset)\n",
        "# visualise \n",
        "plt.plot(dataset)"
      ]
    },
    {
      "cell_type": "code",
      "execution_count": 9,
      "metadata": {
        "id": "RoS2yERAXDN3",
        "colab": {
          "base_uri": "https://localhost:8080/"
        },
        "outputId": "c9cc3aef-940b-4404-9094-ac901a1cf50a"
      },
      "outputs": [
        {
          "output_type": "stream",
          "name": "stdout",
          "text": [
            "96 48\n"
          ]
        }
      ],
      "source": [
        "# split into train and test sets\n",
        "train_size = int(len(dataset) * 0.67)\n",
        "test_size = len(dataset) - train_size\n",
        "train, test = dataset[0:train_size,:], dataset[train_size:len(dataset),:]\n",
        "print(len(train), len(test))"
      ]
    },
    {
      "cell_type": "markdown",
      "metadata": {
        "id": "iq1g8b4nXDN4"
      },
      "source": [
        "It is now necessary to create a function which can be used to create a dataset including a 'lookback', which specifies the number of previous values to be used to predict the next data point. The values used for prediction for each datapoint will be isolated and then all of these concatenated to produce a dataset of the correct format."
      ]
    },
    {
      "cell_type": "code",
      "execution_count": 10,
      "metadata": {
        "id": "2rmywaTRXDN5"
      },
      "outputs": [],
      "source": [
        "# convert an array of values into a dataset matrix \n",
        "def create_dataset(dataset, look_back=1):\n",
        "    dataX, dataY = [], []\n",
        "    for i in range(len(dataset)-look_back-1):\n",
        "        a = dataset[i:(i+look_back), 0]\n",
        "        dataX.append(a)\n",
        "        dataY.append(dataset[i + look_back, 0])\n",
        "    return numpy.array(dataX), numpy.array(dataY)"
      ]
    },
    {
      "cell_type": "code",
      "execution_count": 11,
      "metadata": {
        "id": "iMBWTcrDXDN6"
      },
      "outputs": [],
      "source": [
        "# create dataset for model\n",
        "look_back = 1\n",
        "trainX, trainY = create_dataset(train, look_back)\n",
        "testX, testY = create_dataset(test, look_back)"
      ]
    },
    {
      "cell_type": "code",
      "execution_count": 12,
      "metadata": {
        "id": "8qyyg5tgXDN7"
      },
      "outputs": [],
      "source": [
        "# reshape dataset to dimensions expected by LSTM blocks: [samples, time steps, features]\n",
        "# in our case, we just insert a dimension of size 1 since we only pass 1 time-step at a time\n",
        "trainX = numpy.reshape(trainX, (trainX.shape[0], 1, trainX.shape[1]))\n",
        "testX = numpy.reshape(testX, (testX.shape[0], 1, testX.shape[1]))"
      ]
    },
    {
      "cell_type": "code",
      "execution_count": 13,
      "metadata": {
        "id": "yctrTY7lXDN7",
        "colab": {
          "base_uri": "https://localhost:8080/"
        },
        "outputId": "63b5a72f-c885-4333-d033-2a80bcc33814"
      },
      "outputs": [
        {
          "output_type": "stream",
          "name": "stdout",
          "text": [
            "Epoch 1/100\n",
            "94/94 - 2s - loss: 0.0413 - 2s/epoch - 21ms/step\n",
            "Epoch 2/100\n",
            "94/94 - 0s - loss: 0.0199 - 147ms/epoch - 2ms/step\n",
            "Epoch 3/100\n",
            "94/94 - 0s - loss: 0.0158 - 143ms/epoch - 2ms/step\n",
            "Epoch 4/100\n",
            "94/94 - 0s - loss: 0.0145 - 138ms/epoch - 1ms/step\n",
            "Epoch 5/100\n",
            "94/94 - 0s - loss: 0.0134 - 144ms/epoch - 2ms/step\n",
            "Epoch 6/100\n",
            "94/94 - 0s - loss: 0.0125 - 155ms/epoch - 2ms/step\n",
            "Epoch 7/100\n",
            "94/94 - 0s - loss: 0.0115 - 146ms/epoch - 2ms/step\n",
            "Epoch 8/100\n",
            "94/94 - 0s - loss: 0.0107 - 142ms/epoch - 2ms/step\n",
            "Epoch 9/100\n",
            "94/94 - 0s - loss: 0.0098 - 154ms/epoch - 2ms/step\n",
            "Epoch 10/100\n",
            "94/94 - 0s - loss: 0.0089 - 149ms/epoch - 2ms/step\n",
            "Epoch 11/100\n",
            "94/94 - 0s - loss: 0.0080 - 138ms/epoch - 1ms/step\n",
            "Epoch 12/100\n",
            "94/94 - 0s - loss: 0.0071 - 138ms/epoch - 1ms/step\n",
            "Epoch 13/100\n",
            "94/94 - 0s - loss: 0.0064 - 145ms/epoch - 2ms/step\n",
            "Epoch 14/100\n",
            "94/94 - 0s - loss: 0.0056 - 140ms/epoch - 1ms/step\n",
            "Epoch 15/100\n",
            "94/94 - 0s - loss: 0.0050 - 132ms/epoch - 1ms/step\n",
            "Epoch 16/100\n",
            "94/94 - 0s - loss: 0.0044 - 146ms/epoch - 2ms/step\n",
            "Epoch 17/100\n",
            "94/94 - 0s - loss: 0.0038 - 135ms/epoch - 1ms/step\n",
            "Epoch 18/100\n",
            "94/94 - 0s - loss: 0.0034 - 144ms/epoch - 2ms/step\n",
            "Epoch 19/100\n",
            "94/94 - 0s - loss: 0.0031 - 134ms/epoch - 1ms/step\n",
            "Epoch 20/100\n",
            "94/94 - 0s - loss: 0.0028 - 134ms/epoch - 1ms/step\n",
            "Epoch 21/100\n",
            "94/94 - 0s - loss: 0.0026 - 142ms/epoch - 2ms/step\n",
            "Epoch 22/100\n",
            "94/94 - 0s - loss: 0.0024 - 138ms/epoch - 1ms/step\n",
            "Epoch 23/100\n",
            "94/94 - 0s - loss: 0.0023 - 142ms/epoch - 2ms/step\n",
            "Epoch 24/100\n",
            "94/94 - 0s - loss: 0.0022 - 142ms/epoch - 2ms/step\n",
            "Epoch 25/100\n",
            "94/94 - 0s - loss: 0.0022 - 167ms/epoch - 2ms/step\n",
            "Epoch 26/100\n",
            "94/94 - 0s - loss: 0.0021 - 135ms/epoch - 1ms/step\n",
            "Epoch 27/100\n",
            "94/94 - 0s - loss: 0.0021 - 141ms/epoch - 1ms/step\n",
            "Epoch 28/100\n",
            "94/94 - 0s - loss: 0.0022 - 132ms/epoch - 1ms/step\n",
            "Epoch 29/100\n",
            "94/94 - 0s - loss: 0.0021 - 138ms/epoch - 1ms/step\n",
            "Epoch 30/100\n",
            "94/94 - 0s - loss: 0.0020 - 156ms/epoch - 2ms/step\n",
            "Epoch 31/100\n",
            "94/94 - 0s - loss: 0.0021 - 138ms/epoch - 1ms/step\n",
            "Epoch 32/100\n",
            "94/94 - 0s - loss: 0.0020 - 142ms/epoch - 2ms/step\n",
            "Epoch 33/100\n",
            "94/94 - 0s - loss: 0.0020 - 138ms/epoch - 1ms/step\n",
            "Epoch 34/100\n",
            "94/94 - 0s - loss: 0.0020 - 153ms/epoch - 2ms/step\n",
            "Epoch 35/100\n",
            "94/94 - 0s - loss: 0.0020 - 153ms/epoch - 2ms/step\n",
            "Epoch 36/100\n",
            "94/94 - 0s - loss: 0.0021 - 136ms/epoch - 1ms/step\n",
            "Epoch 37/100\n",
            "94/94 - 0s - loss: 0.0020 - 152ms/epoch - 2ms/step\n",
            "Epoch 38/100\n",
            "94/94 - 0s - loss: 0.0021 - 151ms/epoch - 2ms/step\n",
            "Epoch 39/100\n",
            "94/94 - 0s - loss: 0.0021 - 132ms/epoch - 1ms/step\n",
            "Epoch 40/100\n",
            "94/94 - 0s - loss: 0.0020 - 135ms/epoch - 1ms/step\n",
            "Epoch 41/100\n",
            "94/94 - 0s - loss: 0.0021 - 136ms/epoch - 1ms/step\n",
            "Epoch 42/100\n",
            "94/94 - 0s - loss: 0.0021 - 146ms/epoch - 2ms/step\n",
            "Epoch 43/100\n",
            "94/94 - 0s - loss: 0.0020 - 136ms/epoch - 1ms/step\n",
            "Epoch 44/100\n",
            "94/94 - 0s - loss: 0.0021 - 146ms/epoch - 2ms/step\n",
            "Epoch 45/100\n",
            "94/94 - 0s - loss: 0.0020 - 131ms/epoch - 1ms/step\n",
            "Epoch 46/100\n",
            "94/94 - 0s - loss: 0.0020 - 136ms/epoch - 1ms/step\n",
            "Epoch 47/100\n",
            "94/94 - 0s - loss: 0.0019 - 132ms/epoch - 1ms/step\n",
            "Epoch 48/100\n",
            "94/94 - 0s - loss: 0.0020 - 140ms/epoch - 1ms/step\n",
            "Epoch 49/100\n",
            "94/94 - 0s - loss: 0.0022 - 138ms/epoch - 1ms/step\n",
            "Epoch 50/100\n",
            "94/94 - 0s - loss: 0.0021 - 143ms/epoch - 2ms/step\n",
            "Epoch 51/100\n",
            "94/94 - 0s - loss: 0.0022 - 138ms/epoch - 1ms/step\n",
            "Epoch 52/100\n",
            "94/94 - 0s - loss: 0.0021 - 175ms/epoch - 2ms/step\n",
            "Epoch 53/100\n",
            "94/94 - 0s - loss: 0.0020 - 144ms/epoch - 2ms/step\n",
            "Epoch 54/100\n",
            "94/94 - 0s - loss: 0.0021 - 144ms/epoch - 2ms/step\n",
            "Epoch 55/100\n",
            "94/94 - 0s - loss: 0.0021 - 144ms/epoch - 2ms/step\n",
            "Epoch 56/100\n",
            "94/94 - 0s - loss: 0.0020 - 136ms/epoch - 1ms/step\n",
            "Epoch 57/100\n",
            "94/94 - 0s - loss: 0.0020 - 141ms/epoch - 1ms/step\n",
            "Epoch 58/100\n",
            "94/94 - 0s - loss: 0.0020 - 155ms/epoch - 2ms/step\n",
            "Epoch 59/100\n",
            "94/94 - 0s - loss: 0.0020 - 144ms/epoch - 2ms/step\n",
            "Epoch 60/100\n",
            "94/94 - 0s - loss: 0.0020 - 145ms/epoch - 2ms/step\n",
            "Epoch 61/100\n",
            "94/94 - 0s - loss: 0.0020 - 142ms/epoch - 2ms/step\n",
            "Epoch 62/100\n",
            "94/94 - 0s - loss: 0.0020 - 155ms/epoch - 2ms/step\n",
            "Epoch 63/100\n",
            "94/94 - 0s - loss: 0.0020 - 137ms/epoch - 1ms/step\n",
            "Epoch 64/100\n",
            "94/94 - 0s - loss: 0.0020 - 142ms/epoch - 2ms/step\n",
            "Epoch 65/100\n",
            "94/94 - 0s - loss: 0.0021 - 150ms/epoch - 2ms/step\n",
            "Epoch 66/100\n",
            "94/94 - 0s - loss: 0.0020 - 149ms/epoch - 2ms/step\n",
            "Epoch 67/100\n",
            "94/94 - 0s - loss: 0.0020 - 138ms/epoch - 1ms/step\n",
            "Epoch 68/100\n",
            "94/94 - 0s - loss: 0.0021 - 157ms/epoch - 2ms/step\n",
            "Epoch 69/100\n",
            "94/94 - 0s - loss: 0.0020 - 132ms/epoch - 1ms/step\n",
            "Epoch 70/100\n",
            "94/94 - 0s - loss: 0.0020 - 151ms/epoch - 2ms/step\n",
            "Epoch 71/100\n",
            "94/94 - 0s - loss: 0.0020 - 146ms/epoch - 2ms/step\n",
            "Epoch 72/100\n",
            "94/94 - 0s - loss: 0.0020 - 152ms/epoch - 2ms/step\n",
            "Epoch 73/100\n",
            "94/94 - 0s - loss: 0.0020 - 155ms/epoch - 2ms/step\n",
            "Epoch 74/100\n",
            "94/94 - 0s - loss: 0.0020 - 138ms/epoch - 1ms/step\n",
            "Epoch 75/100\n",
            "94/94 - 0s - loss: 0.0020 - 149ms/epoch - 2ms/step\n",
            "Epoch 76/100\n",
            "94/94 - 0s - loss: 0.0020 - 142ms/epoch - 2ms/step\n",
            "Epoch 77/100\n",
            "94/94 - 0s - loss: 0.0020 - 144ms/epoch - 2ms/step\n",
            "Epoch 78/100\n",
            "94/94 - 0s - loss: 0.0021 - 147ms/epoch - 2ms/step\n",
            "Epoch 79/100\n",
            "94/94 - 0s - loss: 0.0020 - 161ms/epoch - 2ms/step\n",
            "Epoch 80/100\n",
            "94/94 - 0s - loss: 0.0020 - 155ms/epoch - 2ms/step\n",
            "Epoch 81/100\n",
            "94/94 - 0s - loss: 0.0020 - 154ms/epoch - 2ms/step\n",
            "Epoch 82/100\n",
            "94/94 - 0s - loss: 0.0020 - 138ms/epoch - 1ms/step\n",
            "Epoch 83/100\n",
            "94/94 - 0s - loss: 0.0020 - 150ms/epoch - 2ms/step\n",
            "Epoch 84/100\n",
            "94/94 - 0s - loss: 0.0020 - 139ms/epoch - 1ms/step\n",
            "Epoch 85/100\n",
            "94/94 - 0s - loss: 0.0019 - 152ms/epoch - 2ms/step\n",
            "Epoch 86/100\n",
            "94/94 - 0s - loss: 0.0021 - 143ms/epoch - 2ms/step\n",
            "Epoch 87/100\n",
            "94/94 - 0s - loss: 0.0020 - 148ms/epoch - 2ms/step\n",
            "Epoch 88/100\n",
            "94/94 - 0s - loss: 0.0020 - 138ms/epoch - 1ms/step\n",
            "Epoch 89/100\n",
            "94/94 - 0s - loss: 0.0020 - 163ms/epoch - 2ms/step\n",
            "Epoch 90/100\n",
            "94/94 - 0s - loss: 0.0020 - 136ms/epoch - 1ms/step\n",
            "Epoch 91/100\n",
            "94/94 - 0s - loss: 0.0020 - 138ms/epoch - 1ms/step\n",
            "Epoch 92/100\n",
            "94/94 - 0s - loss: 0.0020 - 156ms/epoch - 2ms/step\n",
            "Epoch 93/100\n",
            "94/94 - 0s - loss: 0.0020 - 136ms/epoch - 1ms/step\n",
            "Epoch 94/100\n",
            "94/94 - 0s - loss: 0.0020 - 141ms/epoch - 1ms/step\n",
            "Epoch 95/100\n",
            "94/94 - 0s - loss: 0.0020 - 142ms/epoch - 2ms/step\n",
            "Epoch 96/100\n",
            "94/94 - 0s - loss: 0.0020 - 145ms/epoch - 2ms/step\n",
            "Epoch 97/100\n",
            "94/94 - 0s - loss: 0.0020 - 134ms/epoch - 1ms/step\n",
            "Epoch 98/100\n",
            "94/94 - 0s - loss: 0.0020 - 144ms/epoch - 2ms/step\n",
            "Epoch 99/100\n",
            "94/94 - 0s - loss: 0.0020 - 148ms/epoch - 2ms/step\n",
            "Epoch 100/100\n",
            "94/94 - 0s - loss: 0.0020 - 132ms/epoch - 1ms/step\n"
          ]
        },
        {
          "output_type": "execute_result",
          "data": {
            "text/plain": [
              "<keras.callbacks.History at 0x7f7d92163cd0>"
            ]
          },
          "metadata": {},
          "execution_count": 13
        }
      ],
      "source": [
        "# create and train model\n",
        "model = Sequential()\n",
        "model.add(LSTM(4, input_shape=(1, look_back)))\n",
        "model.add(Dense(1))\n",
        "model.compile(loss='mean_squared_error', optimizer='adam')\n",
        "model.fit(trainX, trainY, epochs=100, batch_size=1, verbose=2)"
      ]
    },
    {
      "cell_type": "code",
      "source": [
        "# test model\n",
        "# make predictions\n",
        "trainPredict = model.predict(trainX)\n",
        "testPredict = model.predict(testX)\n",
        "# invert predictions (ensure performance is reported in the same units as the original data)\n",
        "trainPredict = scaler.inverse_transform(trainPredict)\n",
        "trainY = scaler.inverse_transform([trainY])\n",
        "testPredict = scaler.inverse_transform(testPredict)\n",
        "testY = scaler.inverse_transform([testY])\n",
        "# calculate root mean squared error\n",
        "trainScore = math.sqrt(mean_squared_error(trainY[0], trainPredict[:,0]))\n",
        "print('Train Score: %.2f RMSE' % (trainScore))\n",
        "testScore = math.sqrt(mean_squared_error(testY[0], testPredict[:,0]))\n",
        "print('Test Score: %.2f RMSE' % (testScore))"
      ],
      "metadata": {
        "colab": {
          "base_uri": "https://localhost:8080/"
        },
        "id": "AQ4c9i0fgSFf",
        "outputId": "27533a08-b2fa-439a-928a-326759cb0b8b"
      },
      "execution_count": 14,
      "outputs": [
        {
          "output_type": "stream",
          "name": "stdout",
          "text": [
            "Train Score: 0.04 RMSE\n",
            "Test Score: 0.10 RMSE\n"
          ]
        }
      ]
    },
    {
      "cell_type": "code",
      "source": [
        "# shift train predictions for plotting\n",
        "trainPredictPlot = numpy.empty_like(dataset)\n",
        "trainPredictPlot[:, :] = numpy.nan\n",
        "trainPredictPlot[look_back:len(trainPredict)+look_back, :] = trainPredict\n",
        "# shift test predictions for plotting\n",
        "testPredictPlot = numpy.empty_like(dataset)\n",
        "testPredictPlot[:, :] = numpy.nan\n",
        "testPredictPlot[len(trainPredict)+(look_back*2)+1:len(dataset)-1, :] = testPredict\n",
        "# plot baseline and predictions\n",
        "plt.plot(scaler.inverse_transform(dataset), label='original data')\n",
        "plt.plot(trainPredictPlot, label='training pred.')\n",
        "plt.plot(testPredictPlot, label='test pred.')\n",
        "plt.legend()"
      ],
      "metadata": {
        "colab": {
          "base_uri": "https://localhost:8080/",
          "height": 283
        },
        "id": "55CAwGWphJ_C",
        "outputId": "96ff5ba0-ad2d-416f-a85a-19d1f8f5604c"
      },
      "execution_count": 17,
      "outputs": [
        {
          "output_type": "execute_result",
          "data": {
            "text/plain": [
              "<matplotlib.legend.Legend at 0x7f7d8e525c50>"
            ]
          },
          "metadata": {},
          "execution_count": 17
        },
        {
          "output_type": "display_data",
          "data": {
            "text/plain": [
              "<Figure size 432x288 with 1 Axes>"
            ],
            "image/png": "[encoded data removed]"
          },
          "metadata": {
            "needs_background": "light"
          }
        }
      ]
    }
  ],
  "metadata": {
    "colab": {
      "name": "LSTM.ipynb",
      "provenance": [],
      "include_colab_link": true
    },
    "language_info": {
      "name": "python"
    },
    "kernelspec": {
      "name": "python3",
      "display_name": "Python 3"
    }
  },
  "nbformat": 4,
  "nbformat_minor": 0
}