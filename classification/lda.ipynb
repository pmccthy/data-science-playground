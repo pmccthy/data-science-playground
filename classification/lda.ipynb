{
  "nbformat": 4,
  "nbformat_minor": 0,
  "metadata": {
    "colab": {
      "name": "Untitled5.ipynb",
      "provenance": [],
      "authorship_tag": "ABX9TyNguHGft5UUhdTPvXiOJNZ+",
      "include_colab_link": true
    },
    "kernelspec": {
      "name": "python3",
      "display_name": "Python 3"
    },
    "language_info": {
      "name": "python"
    }
  },
  "cells": [
    {
      "cell_type": "markdown",
      "metadata": {
        "id": "view-in-github",
        "colab_type": "text"
      },
      "source": [
        "<a href=\"https://colab.research.google.com/github/pmccthy/data-science-playground/blob/main/classification/lda.ipynb\" target=\"_parent\"><img src=\"https://colab.research.google.com/assets/colab-badge.svg\" alt=\"Open In Colab\"/></a>"
      ]
    },
    {
      "cell_type": "markdown",
      "source": [
        "# **Linear Discriminant Analysis**\n",
        "\n",
        "Linear Discriminant Analysis (LDA) attempts to linear combinations of features which maximise interclass separation and minimise intraclass separation."
      ],
      "metadata": {
        "id": "WJYgfKEa8P8t"
      }
    },
    {
      "cell_type": "code",
      "source": [
        "%matplotlib inline\n",
        "import matplotlib.pyplot as plt\n",
        "from sklearn import datasets\n",
        "from sklearn.discriminant_analysis import LinearDiscriminantAnalysis\n",
        "import numpy as np"
      ],
      "metadata": {
        "id": "l_SGz9_c8wRz"
      },
      "execution_count": null,
      "outputs": []
    },
    {
      "cell_type": "code",
      "source": [
        "# load dataset\n",
        "iris = datasets.load_iris()\n",
        "X = iris.data\n",
        "y = iris.target\n",
        "target_names = iris.target_names"
      ],
      "metadata": {
        "id": "QQD-sO4T8w-X"
      },
      "execution_count": null,
      "outputs": []
    },
    {
      "cell_type": "markdown",
      "source": [
        "Fisher's iris dataset consists of measurements for 150 flowers across 4 features (sepal length, sepal width, petal length, petal width), where each flower belongs to one of 3 species (Iris setosa, Iris virginica and Iris versicolor). This is evident in the dimensions of the input and target data (dependent and independent variables, respectively)."
      ],
      "metadata": {
        "id": "kCmyfd0v-ZYf"
      }
    },
    {
      "cell_type": "code",
      "source": [
        "print(f'X: {X.shape}')\n",
        "print(f'y: {y.shape}')\n"
      ],
      "metadata": {
        "colab": {
          "base_uri": "https://localhost:8080/"
        },
        "id": "fIo6vIVX9dnd",
        "outputId": "01a63e04-7624-433f-a00c-875d90f86158"
      },
      "execution_count": null,
      "outputs": [
        {
          "output_type": "stream",
          "name": "stdout",
          "text": [
            "X: (150, 4)\n",
            "y: (150,)\n"
          ]
        }
      ]
    }
  ]
}