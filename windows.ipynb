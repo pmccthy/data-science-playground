{
  "nbformat": 4,
  "nbformat_minor": 0,
  "metadata": {
    "colab": {
      "name": "Untitled4.ipynb",
      "provenance": [],
      "authorship_tag": "ABX9TyOc0ZCvNyuQ2CvfnxUyJLhR",
      "include_colab_link": true
    },
    "kernelspec": {
      "name": "python3",
      "display_name": "Python 3"
    },
    "language_info": {
      "name": "python"
    }
  },
  "cells": [
    {
      "cell_type": "markdown",
      "metadata": {
        "id": "view-in-github",
        "colab_type": "text"
      },
      "source": [
        "<a href=\"https://colab.research.google.com/github/pmccthy/data-science-playground/blob/main/windows.ipynb\" target=\"_parent\"><img src=\"https://colab.research.google.com/assets/colab-badge.svg\" alt=\"Open In Colab\"/></a>"
      ]
    },
    {
      "cell_type": "markdown",
      "source": [
        "# **Window functions**\n",
        "\n",
        "This notebook is dedicated to testing different pre-FFT window functions on sample signals to be able to indentify which ones may be favourable to use in different scenarios. A good summary of the common uses of different functions is given on page 15 of this document: https://download.ni.com/evaluation/pxi/Understanding%20FFTs%20and%20Windowing.pdf"
      ],
      "metadata": {
        "id": "YXmYgo25y4e4"
      }
    },
    {
      "cell_type": "code",
      "source": [
        ""
      ],
      "metadata": {
        "id": "LukMifOhy4w5"
      },
      "execution_count": null,
      "outputs": []
    }
  ]
}