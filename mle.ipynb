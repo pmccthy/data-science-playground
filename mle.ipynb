{
 "cells": [
  {
   "cell_type": "markdown",
   "id": "76a3906a-0f2f-4900-8c12-90238f205808",
   "metadata": {},
   "source": [
    "# **Maximum Likelihood Estimation**"
   ]
  },
  {
   "cell_type": "markdown",
   "id": "c17cfcce-466e-4d8b-992b-f57be1cc2b09",
   "metadata": {},
   "source": [
    "This notebook applies maximum likelihood estimation to a simple linear regression problem to investigate the equivalence of least squares estimation (squared error minimisation) and maximum likelihood estimation (likelihood function maximisation) in a Gaussian model. The derivation of this equivalence is outlined in the Bishop textbook, but is also breifly outlined [here](https://stats.stackexchange.com/questions/12562/equivalence-between-least-squares-and-mle-in-gaussian-model). This Notebook is based on the tutorial [here](https://analyticsindiamag.com/maximum-likelihood-estimation-python-guide/)."
   ]
  },
  {
   "cell_type": "code",
   "execution_count": 8,
   "id": "7de0db22-9739-403b-9590-d4f473435adc",
   "metadata": {},
   "outputs": [],
   "source": [
    "# imports\n",
    "import numpy as np\n",
    "import pandas as pd\n",
    "from matplotlib import pyplot as plt\n",
    "from statsmodels import api\n",
    "from scipy import stats\n",
    "from scipy.optimize import minimize "
   ]
  },
  {
   "cell_type": "markdown",
   "id": "3aec95a6-0d75-4c23-9b0e-b2cf29ec13ac",
   "metadata": {},
   "source": [
    "## **Generate Gaussian-distributed data**"
   ]
  },
  {
   "cell_type": "code",
   "execution_count": 9,
   "id": "5781b590-120f-4a24-a3e5-19e4769a9ea8",
   "metadata": {},
   "outputs": [
    {
     "data": {
      "text/html": [
       "<div>\n",
       "<style scoped>\n",
       "    .dataframe tbody tr th:only-of-type {\n",
       "        vertical-align: middle;\n",
       "    }\n",
       "\n",
       "    .dataframe tbody tr th {\n",
       "        vertical-align: top;\n",
       "    }\n",
       "\n",
       "    .dataframe thead th {\n",
       "        text-align: right;\n",
       "    }\n",
       "</style>\n",
       "<table border=\"1\" class=\"dataframe\">\n",
       "  <thead>\n",
       "    <tr style=\"text-align: right;\">\n",
       "      <th></th>\n",
       "      <th>x</th>\n",
       "      <th>y</th>\n",
       "    </tr>\n",
       "  </thead>\n",
       "  <tbody>\n",
       "    <tr>\n",
       "      <th>0</th>\n",
       "      <td>-10.000000</td>\n",
       "      <td>-23.209803</td>\n",
       "    </tr>\n",
       "    <tr>\n",
       "      <th>1</th>\n",
       "      <td>-9.595960</td>\n",
       "      <td>-21.013980</td>\n",
       "    </tr>\n",
       "    <tr>\n",
       "      <th>2</th>\n",
       "      <td>-9.191919</td>\n",
       "      <td>-10.971560</td>\n",
       "    </tr>\n",
       "    <tr>\n",
       "      <th>3</th>\n",
       "      <td>-8.787879</td>\n",
       "      <td>-20.840842</td>\n",
       "    </tr>\n",
       "    <tr>\n",
       "      <th>4</th>\n",
       "      <td>-8.383838</td>\n",
       "      <td>-9.227712</td>\n",
       "    </tr>\n",
       "  </tbody>\n",
       "</table>\n",
       "</div>"
      ],
      "text/plain": [
       "           x          y\n",
       "0 -10.000000 -23.209803\n",
       "1  -9.595960 -21.013980\n",
       "2  -9.191919 -10.971560\n",
       "3  -8.787879 -20.840842\n",
       "4  -8.383838  -9.227712"
      ]
     },
     "execution_count": 9,
     "metadata": {},
     "output_type": "execute_result"
    }
   ],
   "source": [
    "# independent variable space\n",
    "x = np.linspace(-10, 30, 100)\n",
    "\n",
    "# Gaussian distributed residuals\n",
    "e = np.random.normal(10, 5, 100)\n",
    "\n",
    "# target data\n",
    "y = 10 + 4 * x + e"
   ]
  },
  {
   "cell_type": "code",
   "execution_count": 10,
   "id": "27b3139c-ccd0-4cd5-a30d-3f68f70e05a9",
   "metadata": {},
   "outputs": [
    {
     "data": {
      "text/plain": [
       "Text(0.5, 0, 'x')"
      ]
     },
     "execution_count": 10,
     "metadata": {},
     "output_type": "execute_result"
    },
    {
     "data": {
      "image/png": "[encoded data removed]",
      "text/plain": [
       "<Figure size 576x360 with 1 Axes>"
      ]
     },
     "metadata": {
      "needs_background": "light"
     },
     "output_type": "display_data"
    }
   ],
   "source": [
    "# plot data\n",
    "plt.figure(figsize=(8,5))\n",
    "plt.scatter(x,y)\n",
    "plt.ylabel('y')\n",
    "plt.xlabel('x')"
   ]
  },
  {
   "cell_type": "markdown",
   "id": "c2b77daf-680c-4b92-b862-81f243310308",
   "metadata": {},
   "source": [
    "## **Ordinary Least Squares Estimation (Classic linear regression)**"
   ]
  },
  {
   "cell_type": "code",
   "execution_count": 51,
   "id": "6d7fd51d-5585-4463-a43d-bde804440264",
   "metadata": {},
   "outputs": [],
   "source": [
    "# create and fit OLS model with statsmodels library \n",
    "features = api.add_constant(x)\n",
    "ols_model = api.OLS(y, features).fit()"
   ]
  },
  {
   "cell_type": "code",
   "execution_count": 52,
   "id": "e805f695-7d28-4346-87b5-a404660cb836",
   "metadata": {},
   "outputs": [],
   "source": [
    "y_ols = ols_model.params[\"x\"] * x + ols_model.params[\"const\"]"
   ]
  },
  {
   "cell_type": "code",
   "execution_count": 53,
   "id": "ffd3cfe2-588e-4077-b9c4-1ffdfba62955",
   "metadata": {},
   "outputs": [],
   "source": [
    "# fit OLS parameters to estimate regression coefficients\n",
    "res = model.resid\n",
    "standard_dev = np.std(res)"
   ]
  },
  {
   "cell_type": "markdown",
   "id": "546506b4-b8a0-4ba8-91df-ed764daebaa5",
   "metadata": {},
   "source": [
    "## **Maximum Likelihood Estimation**"
   ]
  },
  {
   "cell_type": "code",
   "execution_count": 85,
   "id": "3571b6bd-927a-41e2-b181-bdf7f386c1db",
   "metadata": {},
   "outputs": [],
   "source": [
    "# define function to compute negative log likelihood\n",
    "def MLE_Norm(parameters):\n",
    "    # unpack parameters\n",
    "    const, beta, std_dev = parameters\n",
    "    # predict the output\n",
    "    pred = const + beta * x\n",
    "    # compute the log-likelihood for normal distribution\n",
    "    LL = np.sum(stats.norm.logpdf(y, pred, std_dev))\n",
    "    # compute negative log-likelihood\n",
    "    neg_LL = -1 * LL\n",
    "    return neg_LL "
   ]
  },
  {
   "cell_type": "code",
   "execution_count": 86,
   "id": "875173ad-0ea1-48bc-b779-d0ddc23f6f93",
   "metadata": {},
   "outputs": [],
   "source": [
    "# fit parameters through negative log-likelihood minimisation/ maximum likelihood estimation \n",
    "initial_params = [2,2,2]\n",
    "mle_model = minimize(MLE_Norm, np.array(initial_params), method='L-BFGS-B')"
   ]
  },
  {
   "cell_type": "code",
   "execution_count": 60,
   "id": "aa39f04e-ae50-4c89-8c72-71c899ea9bff",
   "metadata": {},
   "outputs": [],
   "source": [
    "y_mle = mle_model.x[0] + mle_model.x[1] * x "
   ]
  },
  {
   "cell_type": "code",
   "execution_count": 76,
   "id": "3b3d747d-355f-4653-a51c-b6d325cdbc86",
   "metadata": {},
   "outputs": [
    {
     "data": {
      "text/plain": [
       "<matplotlib.legend.Legend at 0x7f8ba5287d60>"
      ]
     },
     "execution_count": 76,
     "metadata": {},
     "output_type": "execute_result"
    },
    {
     "data": {
      "image/png": "[encoded data removed]",
      "text/plain": [
       "<Figure size 432x288 with 1 Axes>"
      ]
     },
     "metadata": {
      "needs_background": "light"
     },
     "output_type": "display_data"
    }
   ],
   "source": [
    "plt.scatter(x, y, marker='o', s=1, c='k')\n",
    "plt.plot(x, y_ols, c='r', lw=2, label=\"OLS\")\n",
    "plt.plot(x, y_mle, c='b', lw=2, linestyle='--', label=\"MLE\")\n",
    "plt.xlabel(\"x\")\n",
    "plt.ylabel(\"y\")\n",
    "plt.legend()"
   ]
  }
 ],
 "metadata": {
  "kernelspec": {
   "display_name": "Python 3 (ipykernel)",
   "language": "python",
   "name": "python3"
  },
  "language_info": {
   "codemirror_mode": {
    "name": "ipython",
    "version": 3
   },
   "file_extension": ".py",
   "mimetype": "text/x-python",
   "name": "python",
   "nbconvert_exporter": "python",
   "pygments_lexer": "ipython3",
   "version": "3.9.7"
  }
 },
 "nbformat": 4,
 "nbformat_minor": 5
}
