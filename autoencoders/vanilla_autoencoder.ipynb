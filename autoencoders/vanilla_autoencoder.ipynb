{
  "nbformat": 4,
  "nbformat_minor": 0,
  "metadata": {
    "colab": {
      "name": "vanilla_autoencoder.ipynb",
      "provenance": [],
      "include_colab_link": true
    },
    "kernelspec": {
      "name": "python3",
      "display_name": "Python 3"
    },
    "language_info": {
      "name": "python"
    }
  },
  "cells": [
    {
      "cell_type": "markdown",
      "metadata": {
        "id": "view-in-github",
        "colab_type": "text"
      },
      "source": [
        "<a href=\"https://colab.research.google.com/github/pmccthy/ML-playground/blob/main/autoencoders/vanilla_autoencoder.ipynb\" target=\"_parent\"><img src=\"https://colab.research.google.com/assets/colab-badge.svg\" alt=\"Open In Colab\"/></a>"
      ]
    },
    {
      "cell_type": "markdown",
      "source": [
        "# **Vanilla autoencoder models**"
      ],
      "metadata": {
        "id": "ptz2SduEL-Eg"
      }
    },
    {
      "cell_type": "markdown",
      "source": [
        "**Model 1**\n",
        "\n",
        "First simple autoencoder model based on the tutorial at https://blog.keras.io/building-autoencoders-in-keras.html"
      ],
      "metadata": {
        "id": "XaG5bsw4MJJ3"
      }
    },
    {
      "cell_type": "code",
      "source": [
        "%matplotlib inline\n",
        "import keras\n",
        "from keras import layers\n",
        "from keras.datasets import mnist\n",
        "import matplotlib.pyplot as plt\n",
        "import numpy as np"
      ],
      "metadata": {
        "id": "9pLxTnnfnVZ5"
      },
      "execution_count": 29,
      "outputs": []
    },
    {
      "cell_type": "markdown",
      "source": [
        "We will create a simple model comprised of three densely connected layers, where the middle layer has fewer nodes than the input input layer (forming the encoder), and the third layer has the same number of nodes as the input layer (forming the decoder)"
      ],
      "metadata": {
        "id": "BwwzJ8B3jezu"
      }
    },
    {
      "cell_type": "code",
      "source": [
        "# params\n",
        "input_dim = 784\n",
        "comp_factor = 15\n",
        "encoding_dim = input_dim//comp_factor "
      ],
      "metadata": {
        "id": "wrHeVWUEoJHl"
      },
      "execution_count": 37,
      "outputs": []
    },
    {
      "cell_type": "code",
      "source": [
        "# autoencoder model\n",
        "input_sig = keras.Input(shape=(input_dim,))\n",
        "encoded = layers.Dense(encoding_dim, activation='relu')(input_sig)\n",
        "decoded = layers.Dense(input_dim, activation='sigmoid')(encoded)\n",
        "autoencoder = keras.Model(input_sig, decoded)\n",
        "autoencoder.summary()"
      ],
      "metadata": {
        "id": "HO_L_0PIjbx0",
        "colab": {
          "base_uri": "https://localhost:8080/"
        },
        "outputId": "d9de76e1-3818-4159-8d34-e0f0e47f123e"
      },
      "execution_count": 38,
      "outputs": [
        {
          "output_type": "stream",
          "name": "stdout",
          "text": [
            "Model: \"model_14\"\n",
            "_________________________________________________________________\n",
            " Layer (type)                Output Shape              Param #   \n",
            "=================================================================\n",
            " input_16 (InputLayer)       [(None, 784)]             0         \n",
            "                                                                 \n",
            " dense_19 (Dense)            (None, 52)                40820     \n",
            "                                                                 \n",
            " dense_20 (Dense)            (None, 784)               41552     \n",
            "                                                                 \n",
            "=================================================================\n",
            "Total params: 82,372\n",
            "Trainable params: 82,372\n",
            "Non-trainable params: 0\n",
            "_________________________________________________________________\n"
          ]
        }
      ]
    },
    {
      "cell_type": "code",
      "source": [
        "# encoder model\n",
        "encoder = keras.Model(input_sig, encoded)"
      ],
      "metadata": {
        "id": "zMI9vlVImhDC"
      },
      "execution_count": 39,
      "outputs": []
    },
    {
      "cell_type": "code",
      "source": [
        "# decoder model\n",
        "encoded_input = keras.Input(shape=(encoding_dim,))\n",
        "decoder_layer = autoencoder.layers[-1]\n",
        "decoder = keras.Model(encoded_input, decoder_layer(encoded_input))"
      ],
      "metadata": {
        "id": "FMc9D8mTndEV"
      },
      "execution_count": 40,
      "outputs": []
    },
    {
      "cell_type": "code",
      "source": [
        "# compile model\n",
        "autoencoder.compile(optimizer='adam', loss='binary_crossentropy')"
      ],
      "metadata": {
        "id": "vwSfnXJintJ9"
      },
      "execution_count": 41,
      "outputs": []
    },
    {
      "cell_type": "markdown",
      "source": [
        "we will train the model to reconstruct MNIST images"
      ],
      "metadata": {
        "id": "4Ao31DdXv5vK"
      }
    },
    {
      "cell_type": "code",
      "source": [
        "# load MNIST dataset\n",
        "(x_train, _), (x_test, _) = mnist.load_data()\n",
        "\n",
        "# normalise valus between 0 and 1\n",
        "x_train = x_train.astype('float32') / 255.\n",
        "x_test = x_test.astype('float32') / 255.\n",
        "x_train = x_train.reshape((len(x_train), np.prod(x_train.shape[1:])))\n",
        "x_test = x_test.reshape((len(x_test), np.prod(x_test.shape[1:])))\n",
        "print(x_train.shape)\n",
        "print(x_test.shape)"
      ],
      "metadata": {
        "colab": {
          "base_uri": "https://localhost:8080/"
        },
        "id": "RpniU16bus7E",
        "outputId": "c5c12727-5b85-407a-eba3-97141663ed94"
      },
      "execution_count": 42,
      "outputs": [
        {
          "output_type": "stream",
          "name": "stdout",
          "text": [
            "(60000, 784)\n",
            "(10000, 784)\n"
          ]
        }
      ]
    },
    {
      "cell_type": "code",
      "source": [
        "# train model\n",
        "autoencoder.fit(x_train, x_train,\n",
        "                epochs=50,\n",
        "                batch_size=256,\n",
        "                shuffle=True,\n",
        "                validation_data=(x_test, x_test))"
      ],
      "metadata": {
        "id": "5K1lyDJLyF04",
        "outputId": "1b8d6b45-0af8-4419-cf61-8b964b80954d",
        "colab": {
          "base_uri": "https://localhost:8080/"
        }
      },
      "execution_count": 43,
      "outputs": [
        {
          "output_type": "stream",
          "name": "stdout",
          "text": [
            "Epoch 1/50\n",
            "235/235 [==============================] - 4s 13ms/step - loss: 0.2536 - val_loss: 0.1719\n",
            "Epoch 2/50\n",
            "235/235 [==============================] - 3s 13ms/step - loss: 0.1533 - val_loss: 0.1360\n",
            "Epoch 3/50\n",
            "235/235 [==============================] - 3s 12ms/step - loss: 0.1269 - val_loss: 0.1167\n",
            "Epoch 4/50\n",
            "235/235 [==============================] - 3s 13ms/step - loss: 0.1118 - val_loss: 0.1049\n",
            "Epoch 5/50\n",
            "235/235 [==============================] - 3s 13ms/step - loss: 0.1018 - val_loss: 0.0966\n",
            "Epoch 6/50\n",
            "235/235 [==============================] - 3s 14ms/step - loss: 0.0946 - val_loss: 0.0906\n",
            "Epoch 7/50\n",
            "235/235 [==============================] - 3s 13ms/step - loss: 0.0894 - val_loss: 0.0863\n",
            "Epoch 8/50\n",
            "235/235 [==============================] - 3s 12ms/step - loss: 0.0858 - val_loss: 0.0834\n",
            "Epoch 9/50\n",
            "235/235 [==============================] - 3s 13ms/step - loss: 0.0833 - val_loss: 0.0814\n",
            "Epoch 10/50\n",
            "235/235 [==============================] - 3s 13ms/step - loss: 0.0817 - val_loss: 0.0802\n",
            "Epoch 11/50\n",
            "235/235 [==============================] - 3s 13ms/step - loss: 0.0806 - val_loss: 0.0793\n",
            "Epoch 12/50\n",
            "235/235 [==============================] - 3s 13ms/step - loss: 0.0799 - val_loss: 0.0788\n",
            "Epoch 13/50\n",
            "235/235 [==============================] - 3s 13ms/step - loss: 0.0794 - val_loss: 0.0783\n",
            "Epoch 14/50\n",
            "235/235 [==============================] - 4s 16ms/step - loss: 0.0790 - val_loss: 0.0780\n",
            "Epoch 15/50\n",
            "235/235 [==============================] - 3s 13ms/step - loss: 0.0787 - val_loss: 0.0777\n",
            "Epoch 16/50\n",
            "235/235 [==============================] - 3s 13ms/step - loss: 0.0785 - val_loss: 0.0776\n",
            "Epoch 17/50\n",
            "235/235 [==============================] - 3s 13ms/step - loss: 0.0783 - val_loss: 0.0775\n",
            "Epoch 18/50\n",
            "235/235 [==============================] - 3s 13ms/step - loss: 0.0782 - val_loss: 0.0773\n",
            "Epoch 19/50\n",
            "235/235 [==============================] - 3s 13ms/step - loss: 0.0780 - val_loss: 0.0772\n",
            "Epoch 20/50\n",
            "235/235 [==============================] - 3s 13ms/step - loss: 0.0779 - val_loss: 0.0771\n",
            "Epoch 21/50\n",
            "235/235 [==============================] - 3s 13ms/step - loss: 0.0778 - val_loss: 0.0771\n",
            "Epoch 22/50\n",
            "235/235 [==============================] - 3s 13ms/step - loss: 0.0778 - val_loss: 0.0770\n",
            "Epoch 23/50\n",
            "235/235 [==============================] - 3s 13ms/step - loss: 0.0777 - val_loss: 0.0770\n",
            "Epoch 24/50\n",
            "235/235 [==============================] - 3s 12ms/step - loss: 0.0776 - val_loss: 0.0769\n",
            "Epoch 25/50\n",
            "235/235 [==============================] - 3s 13ms/step - loss: 0.0776 - val_loss: 0.0768\n",
            "Epoch 26/50\n",
            "235/235 [==============================] - 3s 13ms/step - loss: 0.0775 - val_loss: 0.0769\n",
            "Epoch 27/50\n",
            "235/235 [==============================] - 3s 13ms/step - loss: 0.0775 - val_loss: 0.0768\n",
            "Epoch 28/50\n",
            "235/235 [==============================] - 3s 13ms/step - loss: 0.0775 - val_loss: 0.0767\n",
            "Epoch 29/50\n",
            "235/235 [==============================] - 3s 13ms/step - loss: 0.0774 - val_loss: 0.0770\n",
            "Epoch 30/50\n",
            "235/235 [==============================] - 3s 13ms/step - loss: 0.0774 - val_loss: 0.0767\n",
            "Epoch 31/50\n",
            "235/235 [==============================] - 3s 13ms/step - loss: 0.0773 - val_loss: 0.0766\n",
            "Epoch 32/50\n",
            "235/235 [==============================] - 3s 13ms/step - loss: 0.0773 - val_loss: 0.0767\n",
            "Epoch 33/50\n",
            "235/235 [==============================] - 3s 13ms/step - loss: 0.0773 - val_loss: 0.0766\n",
            "Epoch 34/50\n",
            "235/235 [==============================] - 3s 13ms/step - loss: 0.0773 - val_loss: 0.0766\n",
            "Epoch 35/50\n",
            "235/235 [==============================] - 3s 13ms/step - loss: 0.0772 - val_loss: 0.0766\n",
            "Epoch 36/50\n",
            "235/235 [==============================] - 3s 13ms/step - loss: 0.0772 - val_loss: 0.0766\n",
            "Epoch 37/50\n",
            "235/235 [==============================] - 3s 13ms/step - loss: 0.0772 - val_loss: 0.0766\n",
            "Epoch 38/50\n",
            "235/235 [==============================] - 3s 13ms/step - loss: 0.0772 - val_loss: 0.0765\n",
            "Epoch 39/50\n",
            "235/235 [==============================] - 3s 13ms/step - loss: 0.0772 - val_loss: 0.0765\n",
            "Epoch 40/50\n",
            "235/235 [==============================] - 3s 13ms/step - loss: 0.0772 - val_loss: 0.0765\n",
            "Epoch 41/50\n",
            "235/235 [==============================] - 3s 13ms/step - loss: 0.0771 - val_loss: 0.0765\n",
            "Epoch 42/50\n",
            "235/235 [==============================] - 3s 13ms/step - loss: 0.0771 - val_loss: 0.0766\n",
            "Epoch 43/50\n",
            "235/235 [==============================] - 3s 13ms/step - loss: 0.0771 - val_loss: 0.0764\n",
            "Epoch 44/50\n",
            "235/235 [==============================] - 3s 13ms/step - loss: 0.0771 - val_loss: 0.0765\n",
            "Epoch 45/50\n",
            "235/235 [==============================] - 3s 13ms/step - loss: 0.0771 - val_loss: 0.0765\n",
            "Epoch 46/50\n",
            "235/235 [==============================] - 3s 13ms/step - loss: 0.0771 - val_loss: 0.0764\n",
            "Epoch 47/50\n",
            "235/235 [==============================] - 3s 13ms/step - loss: 0.0771 - val_loss: 0.0765\n",
            "Epoch 48/50\n",
            "235/235 [==============================] - 3s 13ms/step - loss: 0.0771 - val_loss: 0.0765\n",
            "Epoch 49/50\n",
            "235/235 [==============================] - 3s 13ms/step - loss: 0.0770 - val_loss: 0.0764\n",
            "Epoch 50/50\n",
            "235/235 [==============================] - 3s 13ms/step - loss: 0.0770 - val_loss: 0.0764\n"
          ]
        },
        {
          "output_type": "execute_result",
          "data": {
            "text/plain": [
              "<keras.callbacks.History at 0x7f1ff2c01a90>"
            ]
          },
          "metadata": {},
          "execution_count": 43
        }
      ]
    },
    {
      "cell_type": "code",
      "source": [
        "# Encode and decode some digits from the test set\n",
        "encoded_imgs = encoder.predict(x_test)\n",
        "decoded_imgs = decoder.predict(encoded_imgs)"
      ],
      "metadata": {
        "id": "4hJNq6SVyKgh"
      },
      "execution_count": 44,
      "outputs": []
    },
    {
      "cell_type": "code",
      "source": [
        "n = 10  # How many digits we will display\n",
        "plt.figure(figsize=(20, 4))\n",
        "for i in range(n):\n",
        "    # Display original\n",
        "    ax = plt.subplot(2, n, i + 1)\n",
        "    plt.imshow(x_test[i].reshape(28, 28))\n",
        "    plt.gray()\n",
        "    ax.get_xaxis().set_visible(False)\n",
        "    ax.get_yaxis().set_visible(False)\n",
        "\n",
        "    # Display reconstruction\n",
        "    ax = plt.subplot(2, n, i + 1 + n)\n",
        "    plt.imshow(decoded_imgs[i].reshape(28, 28))\n",
        "    plt.gray()\n",
        "    ax.get_xaxis().set_visible(False)\n",
        "    ax.get_yaxis().set_visible(False)\n",
        "plt.show()"
      ],
      "metadata": {
        "id": "Uy0jDZucyWCK",
        "outputId": "77e6c713-7784-4705-f97d-11a09d451397",
        "colab": {
          "base_uri": "https://localhost:8080/",
          "height": 248
        }
      },
      "execution_count": 45,
      "outputs": [
        {
          "output_type": "display_data",
          "data": {
            "image/png": "[encoded data removed]",
            "text/plain": [
              "<Figure size 1440x288 with 20 Axes>"
            ]
          },
          "metadata": {
            "needs_background": "light"
          }
        }
      ]
    }
  ]
}