{
  "nbformat": 4,
  "nbformat_minor": 0,
  "metadata": {
    "colab": {
      "name": "vanilla_autoencoder.ipynb",
      "provenance": [],
      "include_colab_link": true
    },
    "kernelspec": {
      "name": "python3",
      "display_name": "Python 3"
    },
    "language_info": {
      "name": "python"
    }
  },
  "cells": [
    {
      "cell_type": "markdown",
      "metadata": {
        "id": "view-in-github",
        "colab_type": "text"
      },
      "source": [
        "<a href=\"https://colab.research.google.com/github/pmccthy/ML-playground/blob/main/autoencoders/vanilla_autoencoder.ipynb\" target=\"_parent\"><img src=\"https://colab.research.google.com/assets/colab-badge.svg\" alt=\"Open In Colab\"/></a>"
      ]
    },
    {
      "cell_type": "markdown",
      "source": [
        "# **Vanilla autoencoder models**"
      ],
      "metadata": {
        "id": "ptz2SduEL-Eg"
      }
    },
    {
      "cell_type": "markdown",
      "source": [
        "**Model 1**\n",
        "\n",
        "First simple autoencoder model based on the tutorial at https://blog.keras.io/building-autoencoders-in-keras.html"
      ],
      "metadata": {
        "id": "XaG5bsw4MJJ3"
      }
    },
    {
      "cell_type": "code",
      "source": [
        "%matplotlib inline\n",
        "import keras\n",
        "from keras import layers\n",
        "from keras.datasets import mnist\n",
        "import matplotlib.pyplot as plt\n",
        "import numpy as np"
      ],
      "metadata": {
        "id": "9pLxTnnfnVZ5"
      },
      "execution_count": 29,
      "outputs": []
    },
    {
      "cell_type": "markdown",
      "source": [
        "We will create a simple model comprised of three densely connected layers, where the middle layer has fewer nodes than the input input layer (forming the encoder), and the third layer has the same number of nodes as the input layer (forming the decoder)"
      ],
      "metadata": {
        "id": "BwwzJ8B3jezu"
      }
    },
    {
      "cell_type": "code",
      "source": [
        "# params\n",
        "input_dim = 784\n",
        "comp_factor = 100 # play around with the compression factor and see the effects on the reconstruction of input data\n",
        "encoding_dim = input_dim//comp_factor "
      ],
      "metadata": {
        "id": "wrHeVWUEoJHl"
      },
      "execution_count": 55,
      "outputs": []
    },
    {
      "cell_type": "code",
      "source": [
        "# autoencoder model\n",
        "input_sig = keras.Input(shape=(input_dim,))\n",
        "encoded = layers.Dense(encoding_dim, activation='relu')(input_sig)\n",
        "decoded = layers.Dense(input_dim, activation='sigmoid')(encoded)\n",
        "autoencoder = keras.Model(input_sig, decoded)\n",
        "autoencoder.summary()"
      ],
      "metadata": {
        "id": "HO_L_0PIjbx0",
        "colab": {
          "base_uri": "https://localhost:8080/"
        },
        "outputId": "20c224dd-166b-4380-b63e-2324ff87af8f"
      },
      "execution_count": 56,
      "outputs": [
        {
          "output_type": "stream",
          "name": "stdout",
          "text": [
            "Model: \"model_20\"\n",
            "_________________________________________________________________\n",
            " Layer (type)                Output Shape              Param #   \n",
            "=================================================================\n",
            " input_20 (InputLayer)       [(None, 784)]             0         \n",
            "                                                                 \n",
            " dense_23 (Dense)            (None, 7)                 5495      \n",
            "                                                                 \n",
            " dense_24 (Dense)            (None, 784)               6272      \n",
            "                                                                 \n",
            "=================================================================\n",
            "Total params: 11,767\n",
            "Trainable params: 11,767\n",
            "Non-trainable params: 0\n",
            "_________________________________________________________________\n"
          ]
        }
      ]
    },
    {
      "cell_type": "code",
      "source": [
        "# encoder model\n",
        "encoder = keras.Model(input_sig, encoded)"
      ],
      "metadata": {
        "id": "zMI9vlVImhDC"
      },
      "execution_count": 57,
      "outputs": []
    },
    {
      "cell_type": "code",
      "source": [
        "# decoder model\n",
        "encoded_input = keras.Input(shape=(encoding_dim,))\n",
        "decoder_layer = autoencoder.layers[-1]\n",
        "decoder = keras.Model(encoded_input, decoder_layer(encoded_input))"
      ],
      "metadata": {
        "id": "FMc9D8mTndEV"
      },
      "execution_count": 58,
      "outputs": []
    },
    {
      "cell_type": "markdown",
      "source": [
        "we will use the binary cross-entropy loss function, a good explanation of which can be found here: https://towardsdatascience.com/understanding-binary-cross-entropy-log-loss-a-visual-explanation-a3ac6025181a"
      ],
      "metadata": {
        "id": "cf_uOcv80vRF"
      }
    },
    {
      "cell_type": "code",
      "source": [
        "# compile model\n",
        "autoencoder.compile(optimizer='adam', loss='binary_crossentropy')"
      ],
      "metadata": {
        "id": "vwSfnXJintJ9"
      },
      "execution_count": 59,
      "outputs": []
    },
    {
      "cell_type": "markdown",
      "source": [
        "we will train the model to reconstruct MNIST images"
      ],
      "metadata": {
        "id": "4Ao31DdXv5vK"
      }
    },
    {
      "cell_type": "code",
      "source": [
        "# load MNIST dataset\n",
        "(x_train, _), (x_test, _) = mnist.load_data()\n",
        "\n",
        "# normalise valus between 0 and 1\n",
        "x_train = x_train.astype('float32') / 255.\n",
        "x_test = x_test.astype('float32') / 255.\n",
        "\n",
        "# flatten\n",
        "x_train = x_train.reshape((len(x_train), np.prod(x_train.shape[1:])))\n",
        "x_test = x_test.reshape((len(x_test), np.prod(x_test.shape[1:])))\n",
        "print(x_train.shape)\n",
        "print(x_test.shape)"
      ],
      "metadata": {
        "colab": {
          "base_uri": "https://localhost:8080/"
        },
        "id": "RpniU16bus7E",
        "outputId": "d916e4c1-3e77-485c-a6dc-cc8e11d14583"
      },
      "execution_count": 60,
      "outputs": [
        {
          "output_type": "stream",
          "name": "stdout",
          "text": [
            "(60000, 784)\n",
            "(10000, 784)\n"
          ]
        }
      ]
    },
    {
      "cell_type": "code",
      "source": [
        "# train model\n",
        "autoencoder.fit(x_train, x_train,\n",
        "                epochs=50,\n",
        "                batch_size=256,\n",
        "                shuffle=True,\n",
        "                validation_data=(x_test, x_test))"
      ],
      "metadata": {
        "colab": {
          "base_uri": "https://localhost:8080/"
        },
        "id": "5K1lyDJLyF04",
        "outputId": "5f9b9d05-8bb4-4e66-bf5f-0e5afe6af214"
      },
      "execution_count": 61,
      "outputs": [
        {
          "output_type": "stream",
          "name": "stdout",
          "text": [
            "Epoch 1/50\n",
            "235/235 [==============================] - 3s 12ms/step - loss: 0.3434 - val_loss: 0.2589\n",
            "Epoch 2/50\n",
            "235/235 [==============================] - 3s 11ms/step - loss: 0.2363 - val_loss: 0.2143\n",
            "Epoch 3/50\n",
            "235/235 [==============================] - 3s 11ms/step - loss: 0.2038 - val_loss: 0.1944\n",
            "Epoch 4/50\n",
            "235/235 [==============================] - 3s 11ms/step - loss: 0.1923 - val_loss: 0.1882\n",
            "Epoch 5/50\n",
            "235/235 [==============================] - 3s 11ms/step - loss: 0.1880 - val_loss: 0.1851\n",
            "Epoch 6/50\n",
            "235/235 [==============================] - 3s 11ms/step - loss: 0.1854 - val_loss: 0.1829\n",
            "Epoch 7/50\n",
            "235/235 [==============================] - 3s 12ms/step - loss: 0.1835 - val_loss: 0.1813\n",
            "Epoch 8/50\n",
            "235/235 [==============================] - 3s 11ms/step - loss: 0.1819 - val_loss: 0.1797\n",
            "Epoch 9/50\n",
            "235/235 [==============================] - 3s 11ms/step - loss: 0.1806 - val_loss: 0.1785\n",
            "Epoch 10/50\n",
            "235/235 [==============================] - 3s 11ms/step - loss: 0.1794 - val_loss: 0.1775\n",
            "Epoch 11/50\n",
            "235/235 [==============================] - 2s 10ms/step - loss: 0.1785 - val_loss: 0.1766\n",
            "Epoch 12/50\n",
            "235/235 [==============================] - 2s 10ms/step - loss: 0.1776 - val_loss: 0.1757\n",
            "Epoch 13/50\n",
            "235/235 [==============================] - 2s 10ms/step - loss: 0.1769 - val_loss: 0.1751\n",
            "Epoch 14/50\n",
            "235/235 [==============================] - 3s 11ms/step - loss: 0.1762 - val_loss: 0.1744\n",
            "Epoch 15/50\n",
            "235/235 [==============================] - 2s 10ms/step - loss: 0.1756 - val_loss: 0.1738\n",
            "Epoch 16/50\n",
            "235/235 [==============================] - 2s 10ms/step - loss: 0.1751 - val_loss: 0.1733\n",
            "Epoch 17/50\n",
            "235/235 [==============================] - 2s 10ms/step - loss: 0.1746 - val_loss: 0.1729\n",
            "Epoch 18/50\n",
            "235/235 [==============================] - 2s 10ms/step - loss: 0.1742 - val_loss: 0.1725\n",
            "Epoch 19/50\n",
            "235/235 [==============================] - 2s 10ms/step - loss: 0.1738 - val_loss: 0.1722\n",
            "Epoch 20/50\n",
            "235/235 [==============================] - 2s 10ms/step - loss: 0.1735 - val_loss: 0.1719\n",
            "Epoch 21/50\n",
            "235/235 [==============================] - 2s 10ms/step - loss: 0.1733 - val_loss: 0.1716\n",
            "Epoch 22/50\n",
            "235/235 [==============================] - 2s 10ms/step - loss: 0.1731 - val_loss: 0.1714\n",
            "Epoch 23/50\n",
            "235/235 [==============================] - 2s 10ms/step - loss: 0.1729 - val_loss: 0.1712\n",
            "Epoch 24/50\n",
            "235/235 [==============================] - 2s 11ms/step - loss: 0.1727 - val_loss: 0.1711\n",
            "Epoch 25/50\n",
            "235/235 [==============================] - 2s 11ms/step - loss: 0.1726 - val_loss: 0.1710\n",
            "Epoch 26/50\n",
            "235/235 [==============================] - 3s 11ms/step - loss: 0.1724 - val_loss: 0.1709\n",
            "Epoch 27/50\n",
            "235/235 [==============================] - 2s 11ms/step - loss: 0.1723 - val_loss: 0.1708\n",
            "Epoch 28/50\n",
            "235/235 [==============================] - 3s 11ms/step - loss: 0.1722 - val_loss: 0.1707\n",
            "Epoch 29/50\n",
            "235/235 [==============================] - 3s 13ms/step - loss: 0.1722 - val_loss: 0.1707\n",
            "Epoch 30/50\n",
            "235/235 [==============================] - 3s 11ms/step - loss: 0.1721 - val_loss: 0.1705\n",
            "Epoch 31/50\n",
            "235/235 [==============================] - 3s 11ms/step - loss: 0.1720 - val_loss: 0.1705\n",
            "Epoch 32/50\n",
            "235/235 [==============================] - 2s 11ms/step - loss: 0.1719 - val_loss: 0.1704\n",
            "Epoch 33/50\n",
            "235/235 [==============================] - 3s 11ms/step - loss: 0.1719 - val_loss: 0.1704\n",
            "Epoch 34/50\n",
            "235/235 [==============================] - 3s 11ms/step - loss: 0.1718 - val_loss: 0.1703\n",
            "Epoch 35/50\n",
            "235/235 [==============================] - 3s 11ms/step - loss: 0.1717 - val_loss: 0.1703\n",
            "Epoch 36/50\n",
            "235/235 [==============================] - 3s 12ms/step - loss: 0.1717 - val_loss: 0.1703\n",
            "Epoch 37/50\n",
            "235/235 [==============================] - 3s 11ms/step - loss: 0.1717 - val_loss: 0.1701\n",
            "Epoch 38/50\n",
            "235/235 [==============================] - 3s 11ms/step - loss: 0.1716 - val_loss: 0.1702\n",
            "Epoch 39/50\n",
            "235/235 [==============================] - 3s 13ms/step - loss: 0.1716 - val_loss: 0.1701\n",
            "Epoch 40/50\n",
            "235/235 [==============================] - 3s 12ms/step - loss: 0.1715 - val_loss: 0.1701\n",
            "Epoch 41/50\n",
            "235/235 [==============================] - 3s 12ms/step - loss: 0.1715 - val_loss: 0.1700\n",
            "Epoch 42/50\n",
            "235/235 [==============================] - 3s 11ms/step - loss: 0.1715 - val_loss: 0.1700\n",
            "Epoch 43/50\n",
            "235/235 [==============================] - 2s 11ms/step - loss: 0.1714 - val_loss: 0.1700\n",
            "Epoch 44/50\n",
            "235/235 [==============================] - 2s 11ms/step - loss: 0.1714 - val_loss: 0.1700\n",
            "Epoch 45/50\n",
            "235/235 [==============================] - 2s 10ms/step - loss: 0.1714 - val_loss: 0.1700\n",
            "Epoch 46/50\n",
            "235/235 [==============================] - 2s 10ms/step - loss: 0.1714 - val_loss: 0.1699\n",
            "Epoch 47/50\n",
            "235/235 [==============================] - 2s 10ms/step - loss: 0.1714 - val_loss: 0.1699\n",
            "Epoch 48/50\n",
            "235/235 [==============================] - 2s 10ms/step - loss: 0.1713 - val_loss: 0.1700\n",
            "Epoch 49/50\n",
            "235/235 [==============================] - 3s 11ms/step - loss: 0.1713 - val_loss: 0.1699\n",
            "Epoch 50/50\n",
            "235/235 [==============================] - 2s 10ms/step - loss: 0.1713 - val_loss: 0.1698\n"
          ]
        },
        {
          "output_type": "execute_result",
          "data": {
            "text/plain": [
              "<keras.callbacks.History at 0x7f1feac78d50>"
            ]
          },
          "metadata": {},
          "execution_count": 61
        }
      ]
    },
    {
      "cell_type": "code",
      "source": [
        "# encode and decode some digits from the test set\n",
        "encoded_imgs = encoder.predict(x_test)\n",
        "decoded_imgs = decoder.predict(encoded_imgs)"
      ],
      "metadata": {
        "id": "4hJNq6SVyKgh"
      },
      "execution_count": 62,
      "outputs": []
    },
    {
      "cell_type": "code",
      "source": [
        "n = 10  # number of digits to disply\n",
        "plt.figure(figsize=(20, 4))\n",
        "for i in range(n):\n",
        "    # original\n",
        "    ax = plt.subplot(2, n, i + 1)\n",
        "    plt.imshow(x_test[i].reshape(28, 28))\n",
        "    plt.gray()\n",
        "    ax.get_xaxis().set_visible(False)\n",
        "    ax.get_yaxis().set_visible(False)\n",
        "\n",
        "    # reconstruction\n",
        "    ax = plt.subplot(2, n, i + 1 + n)\n",
        "    plt.imshow(decoded_imgs[i].reshape(28, 28))\n",
        "    plt.gray()\n",
        "    ax.get_xaxis().set_visible(False)\n",
        "    ax.get_yaxis().set_visible(False)\n",
        "plt.show()"
      ],
      "metadata": {
        "colab": {
          "base_uri": "https://localhost:8080/",
          "height": 248
        },
        "id": "Uy0jDZucyWCK",
        "outputId": "50582033-dde9-4c38-8256-da715f635ed1"
      },
      "execution_count": 63,
      "outputs": [
        {
          "output_type": "display_data",
          "data": {
            "image/png": "[encoded data removed]",
            "text/plain": [
              "<Figure size 1440x288 with 20 Axes>"
            ]
          },
          "metadata": {
            "needs_background": "light"
          }
        }
      ]
    },
    {
      "cell_type": "code",
      "source": [
        ""
      ],
      "metadata": {
        "id": "l2dFey8A0YLy"
      },
      "execution_count": null,
      "outputs": []
    }
  ]
}