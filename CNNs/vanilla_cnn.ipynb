{
  "cells": [
    {
      "cell_type": "markdown",
      "metadata": {
        "id": "view-in-github",
        "colab_type": "text"
      },
      "source": [
        "<a href=\"https://colab.research.google.com/github/pmccthy/ML-playground/blob/main/CNNs/vanilla_cnn.ipynb\" target=\"_parent\"><img src=\"https://colab.research.google.com/assets/colab-badge.svg\" alt=\"Open In Colab\"/></a>"
      ]
    },
    {
      "cell_type": "markdown",
      "source": [
        "# **Vanilla CNN models**"
      ],
      "metadata": {
        "id": "tyJIgDmP4R83"
      }
    },
    {
      "cell_type": "markdown",
      "source": [
        "This notebook is dedicated to building generic CNN models to gain an understanding of how different parameters influence their performance"
      ],
      "metadata": {
        "id": "Ym2nhCbC4WmV"
      }
    },
    {
      "cell_type": "code",
      "execution_count": null,
      "metadata": {
        "id": "vfedU5YiFS-G"
      },
      "outputs": [],
      "source": [
        "# library imports\n",
        "from keras.datasets import mnist\n",
        "from keras.models import Sequential\n",
        "from keras.layers import Dense, Conv2D, Flatten\n",
        "from keras.backend import argmax\n",
        "from tensorflow.keras.utils import to_categorical\n",
        "import numpy as np\n",
        "import struct\n",
        "import matplotlib.pyplot as plt"
      ]
    },
    {
      "cell_type": "code",
      "execution_count": null,
      "metadata": {
        "colab": {
          "base_uri": "https://localhost:8080/"
        },
        "id": "GT7deecNFS-J",
        "outputId": "bd14292b-bd90-41d0-9319-2b1bbbe2c633"
      },
      "outputs": [
        {
          "output_type": "stream",
          "name": "stdout",
          "text": [
            "Downloading data from https://storage.googleapis.com/tensorflow/tf-keras-datasets/mnist.npz\n",
            "11493376/11490434 [==============================] - 0s 0us/step\n",
            "11501568/11490434 [==============================] - 0s 0us/step\n"
          ]
        }
      ],
      "source": [
        "# load dataset\n",
        "(X_train, y_train), (X_test, y_test) = mnist.load_data()"
      ]
    },
    {
      "cell_type": "code",
      "execution_count": null,
      "metadata": {
        "colab": {
          "base_uri": "https://localhost:8080/",
          "height": 357
        },
        "id": "I2iA7EgMFS-J",
        "outputId": "0183f3ab-048b-4baf-a4cc-ae68cf54076f"
      },
      "outputs": [
        {
          "output_type": "stream",
          "name": "stdout",
          "text": [
            "Training feature matrix has shape (60000, 28, 28)\n",
            "Test feature matrix has shape (10000, 28, 28)\n",
            "Training label vector has shape (60000,)\n",
            "Test label vector has shape (10000,)\n",
            "5\n"
          ]
        },
        {
          "output_type": "display_data",
          "data": {
            "image/png": "[encoded data removed]",
            "text/plain": [
              "<Figure size 432x288 with 1 Axes>"
            ]
          },
          "metadata": {
            "needs_background": "light"
          }
        }
      ],
      "source": [
        "# sanity checks\n",
        "print(f'Training feature matrix has shape {np.shape(X_train)}')\n",
        "print(f'Test feature matrix has shape {np.shape(X_test)}')\n",
        "print(f'Training label vector has shape {np.shape(y_train)}')\n",
        "print(f'Test label vector has shape {np.shape(y_test)}')\n",
        "plt.imshow(X_train[0], 'gray')\n",
        "print(y_train[0])"
      ]
    },
    {
      "cell_type": "code",
      "execution_count": null,
      "metadata": {
        "id": "Ia9OOzSuFS-K"
      },
      "outputs": [],
      "source": [
        "# reshape feature matrices as convolutional layers will expect 4d input\n",
        "# (last channel is colour channel and equal to 1 because we have greyscale images)\n",
        "X_train = X_train.reshape((60000,28,28,1))\n",
        "X_test = X_test.reshape((10000,28,28,1))"
      ]
    },
    {
      "cell_type": "code",
      "execution_count": null,
      "metadata": {
        "id": "vsAKXRUGFS-L"
      },
      "outputs": [],
      "source": [
        "# one-hot encode target variables\n",
        "y_train = to_categorical(y_train)\n",
        "y_test = to_categorical(y_test)"
      ]
    },
    {
      "cell_type": "markdown",
      "source": [
        "Next, we will build the model, using 64 convolutional filters for the first layer and 32 for the second"
      ],
      "metadata": {
        "id": "nHYtRczd4jUm"
      }
    },
    {
      "cell_type": "code",
      "execution_count": null,
      "metadata": {
        "colab": {
          "base_uri": "https://localhost:8080/"
        },
        "id": "_QJ5xU7IFS-L",
        "outputId": "6815c7d7-0844-4448-8f36-bd3f79a7c90c"
      },
      "outputs": [
        {
          "output_type": "stream",
          "name": "stdout",
          "text": [
            "Model: \"sequential\"\n",
            "_________________________________________________________________\n",
            " Layer (type)                Output Shape              Param #   \n",
            "=================================================================\n",
            " conv2d (Conv2D)             (None, 26, 26, 64)        640       \n",
            "                                                                 \n",
            " conv2d_1 (Conv2D)           (None, 24, 24, 32)        18464     \n",
            "                                                                 \n",
            " flatten (Flatten)           (None, 18432)             0         \n",
            "                                                                 \n",
            " dense (Dense)               (None, 10)                184330    \n",
            "                                                                 \n",
            "=================================================================\n",
            "Total params: 203,434\n",
            "Trainable params: 203,434\n",
            "Non-trainable params: 0\n",
            "_________________________________________________________________\n"
          ]
        }
      ],
      "source": [
        "# build model\n",
        "model = Sequential()\n",
        "model.add(Conv2D(64, kernel_size=3, activation='relu', input_shape=(28,28,1)))\n",
        "model.add(Conv2D(32, kernel_size=3, activation='relu'))\n",
        "model.add(Flatten())\n",
        "model.add(Dense(10, activation='softmax'))\n",
        "model.summary()"
      ]
    },
    {
      "cell_type": "markdown",
      "source": [
        "note, the output shape of each layer is 2 smaller than the previous layer: this is because we are convolving with a 3x3 kernel which cannot be centered on pixels in the outside rows or columns, hence the size of the output is essentially trimmed by one pixel on each side"
      ],
      "metadata": {
        "id": "v9ntUpsEH4w0"
      }
    },
    {
      "cell_type": "code",
      "execution_count": null,
      "metadata": {
        "id": "sBPpievFFS-N"
      },
      "outputs": [],
      "source": [
        "#compile model using accuracy to measure model performance\n",
        "model.compile(optimizer='adam', loss='categorical_crossentropy', metrics=['accuracy'])"
      ]
    },
    {
      "cell_type": "code",
      "execution_count": null,
      "metadata": {
        "colab": {
          "base_uri": "https://localhost:8080/"
        },
        "id": "lQMHJW1ZFS-N",
        "outputId": "a1c3e782-cde2-4527-a1b8-8937897440a2"
      },
      "outputs": [
        {
          "output_type": "stream",
          "name": "stdout",
          "text": [
            "Epoch 1/3\n",
            "1875/1875 [==============================] - 172s 91ms/step - loss: 0.2325 - accuracy: 0.9511 - val_loss: 0.1013 - val_accuracy: 0.9688\n",
            "Epoch 2/3\n",
            "1875/1875 [==============================] - 173s 92ms/step - loss: 0.0728 - accuracy: 0.9774 - val_loss: 0.0891 - val_accuracy: 0.9742\n",
            "Epoch 3/3\n",
            "1875/1875 [==============================] - 175s 93ms/step - loss: 0.0507 - accuracy: 0.9840 - val_loss: 0.0860 - val_accuracy: 0.9769\n"
          ]
        },
        {
          "output_type": "execute_result",
          "data": {
            "text/plain": [
              "<keras.callbacks.History at 0x7f5913acc710>"
            ]
          },
          "metadata": {},
          "execution_count": 23
        }
      ],
      "source": [
        "#train the model\n",
        "model.fit(X_train, y_train, validation_data=(X_test, y_test), epochs=3)"
      ]
    },
    {
      "cell_type": "code",
      "execution_count": null,
      "metadata": {
        "id": "lJxjJzrRFS-O"
      },
      "outputs": [],
      "source": [
        "sample_predictions = argmax(model.predict(X_test[:4]))\n",
        "ground_truth = argmax(y_test[:4])"
      ]
    },
    {
      "cell_type": "code",
      "source": [
        "print(f'Predicted classes: {sample_predictions}')\n",
        "print(f'Ground truth: {ground_truth}')"
      ],
      "metadata": {
        "colab": {
          "base_uri": "https://localhost:8080/"
        },
        "id": "MrOvXB-hKydm",
        "outputId": "96914271-f108-4051-d809-0022ada57734"
      },
      "execution_count": null,
      "outputs": [
        {
          "output_type": "stream",
          "name": "stdout",
          "text": [
            "Predicted classes: [7 2 1 0]\n",
            "Ground truth: [7 2 1 0]\n"
          ]
        }
      ]
    }
  ],
  "metadata": {
    "kernelspec": {
      "display_name": "Python 3",
      "language": "python",
      "name": "python3"
    },
    "language_info": {
      "codemirror_mode": {
        "name": "ipython",
        "version": 3
      },
      "file_extension": ".py",
      "mimetype": "text/x-python",
      "name": "python",
      "nbconvert_exporter": "python",
      "pygments_lexer": "ipython3",
      "version": "3.7.7"
    },
    "colab": {
      "name": "vanilla_cnn.ipynb",
      "provenance": [],
      "collapsed_sections": [],
      "include_colab_link": true
    }
  },
  "nbformat": 4,
  "nbformat_minor": 0
}