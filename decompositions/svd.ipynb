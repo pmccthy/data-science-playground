{
 "cells": [
  {
   "cell_type": "markdown",
   "id": "11be7166-bff6-4677-9caa-48fd476f486c",
   "metadata": {
    "tags": []
   },
   "source": [
    "# **Singular Value Decomposition**"
   ]
  },
  {
   "cell_type": "markdown",
   "id": "b7e6919e",
   "metadata": {},
   "source": [
    "A good introduction to SVD for ML can be found at https://machinelearningmastery.com/singular-value-decomposition-for-machine-learning/, and an excellent visual tutorial is given here: https://towardsdatascience.com/svd-8c2f72e264f.\n",
    "Here, I implement SVD on different matrices using NumPy and visualise the results to gain an intuition for the algorithm."
   ]
  },
  {
   "cell_type": "code",
   "execution_count": 123,
   "id": "fb007d3f-bccb-4ada-9ddd-12fa5fce9f55",
   "metadata": {},
   "outputs": [],
   "source": [
    "%matplotlib inline\n",
    "import numpy as np\n",
    "import matplotlib.pyplot as plt"
   ]
  },
  {
   "cell_type": "code",
   "execution_count": 124,
   "id": "f3e998eb-b20c-4dd0-a002-c7b0d3062eae",
   "metadata": {},
   "outputs": [],
   "source": [
    "# create some sample matrices to perform SVD on\n",
    "X = np.empty([10,10])\n",
    "Y = np.empty([10,10])\n",
    "for row_idx in range(np.shape(X)[0]):\n",
    "    for col_idx in range(np.shape(X)[1]):\n",
    "        X[row_idx, col_idx] = col_idx\n",
    "        Y[row_idx, col_idx] = row_idx"
   ]
  },
  {
   "cell_type": "code",
   "execution_count": 125,
   "id": "b046274d-6d6f-4539-ba5e-df58adb74ee9",
   "metadata": {},
   "outputs": [
    {
     "data": {
      "image/png": "[encoded data removed]",
      "text/plain": [
       "<Figure size 432x288 with 2 Axes>"
      ]
     },
     "metadata": {},
     "output_type": "display_data"
    }
   ],
   "source": [
    "# visualise the matrices\n",
    "fig, ax = plt.subplots(nrows=1, ncols=2)\n",
    "ax[0].imshow(X)\n",
    "ax[0].set_title('X')\n",
    "ax[0].set_xticks([])\n",
    "ax[0].set_yticks([])\n",
    "for (j,i), label in np.ndenumerate(X):\n",
    "    ax[0].text(i,j,int(label),ha='center',va='center')\n",
    "ax[1].imshow(Y)\n",
    "ax[1].set_title('Y')\n",
    "ax[1].set_xticks([])\n",
    "ax[1].set_yticks([])\n",
    "for (j,i), label in np.ndenumerate(Y):\n",
    "    ax[1].text(i,j,int(label),ha='center',va='center')"
   ]
  },
  {
   "cell_type": "code",
   "execution_count": 126,
   "id": "379f8996-c15f-4616-afe8-3b3b509dc546",
   "metadata": {},
   "outputs": [],
   "source": [
    "# perform the SVD\n",
    "U_X, S_X, VT_X = np.linalg.svd(X)\n",
    "U_Y, S_Y, VT_Y = np.linalg.svd(Y)"
   ]
  },
  {
   "cell_type": "code",
   "execution_count": 127,
   "id": "bcbd0d65-a51f-404e-b809-d77c2ff5978d",
   "metadata": {},
   "outputs": [
    {
     "data": {
      "text/plain": [
       "[]"
      ]
     },
     "execution_count": 127,
     "metadata": {},
     "output_type": "execute_result"
    },
    {
     "data": {
      "image/png": "[encoded data removed]",
      "text/plain": [
       "<Figure size 432x288 with 4 Axes>"
      ]
     },
     "metadata": {},
     "output_type": "display_data"
    },
    {
     "data": {
      "image/png": "[encoded data removed]",
      "text/plain": [
       "<Figure size 432x288 with 4 Axes>"
      ]
     },
     "metadata": {},
     "output_type": "display_data"
    }
   ],
   "source": [
    "# visualise the decomposed matrices\n",
    "fig, ax = plt.subplots(nrows=1, ncols=4)\n",
    "ax[0].imshow(X) \n",
    "ax[0].set_title('X')\n",
    "ax[0].set_xticks([])\n",
    "ax[0].set_yticks([])\n",
    "ax[1].imshow(U_X) \n",
    "ax[1].set_title('U')\n",
    "ax[1].set_xticks([])\n",
    "ax[1].set_yticks([])\n",
    "ax[2].imshow(np.reshape(S_X, np.shape(S_Y) + (1,)))\n",
    "ax[2].set_title('S')\n",
    "ax[2].set_xticks([])\n",
    "ax[2].set_yticks([])\n",
    "ax[3].imshow(VT_X) \n",
    "ax[3].set_title('$V^{T}$')\n",
    "ax[3].set_xticks([])\n",
    "ax[3].set_yticks([])\n",
    "\n",
    "fig, ax = plt.subplots(nrows=1, ncols=4)\n",
    "ax[0].imshow(Y) \n",
    "ax[0].set_title('Y')\n",
    "ax[0].set_xticks([])\n",
    "ax[0].set_yticks([])\n",
    "ax[1].imshow(U_Y) \n",
    "ax[1].set_title('U')\n",
    "ax[1].set_xticks([])\n",
    "ax[1].set_yticks([])\n",
    "ax[2].imshow(np.reshape(S_Y, np.shape(S_Y) + (1,)))\n",
    "ax[2].set_title('S')\n",
    "ax[2].set_xticks([])\n",
    "ax[2].set_yticks([])\n",
    "ax[3].imshow(VT_Y) \n",
    "ax[3].set_title('$V^{T}$')\n",
    "ax[3].set_xticks([])\n",
    "ax[3].set_yticks([])"
   ]
  }
 ],
 "metadata": {
  "kernelspec": {
   "display_name": "Python 3 (ipykernel)",
   "language": "python",
   "name": "python3"
  },
  "language_info": {
   "codemirror_mode": {
    "name": "ipython",
    "version": 3
   },
   "file_extension": ".py",
   "mimetype": "text/x-python",
   "name": "python",
   "nbconvert_exporter": "python",
   "pygments_lexer": "ipython3",
   "version": "3.9.7"
  }
 },
 "nbformat": 4,
 "nbformat_minor": 5
}
