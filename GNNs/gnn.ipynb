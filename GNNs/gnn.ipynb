{
  "nbformat": 4,
  "nbformat_minor": 0,
  "metadata": {
    "colab": {
      "name": "Untitled6.ipynb",
      "provenance": [],
      "authorship_tag": "ABX9TyNfGGMRnXE3zgAYquUXo3qJ",
      "include_colab_link": true
    },
    "kernelspec": {
      "name": "python3",
      "display_name": "Python 3"
    },
    "language_info": {
      "name": "python"
    }
  },
  "cells": [
    {
      "cell_type": "markdown",
      "metadata": {
        "id": "view-in-github",
        "colab_type": "text"
      },
      "source": [
        "<a href=\"https://colab.research.google.com/github/pmccthy/data-science-playground/blob/main/GNNs/gnn.ipynb\" target=\"_parent\"><img src=\"https://colab.research.google.com/assets/colab-badge.svg\" alt=\"Open In Colab\"/></a>"
      ]
    },
    {
      "cell_type": "markdown",
      "source": [
        "# **Graph Neural Networks**"
      ],
      "metadata": {
        "id": "uhYS2ySWRA4s"
      }
    },
    {
      "cell_type": "markdown",
      "source": [
        "This notebook is for exploring GNNs. It follows the tutorial at https://uvadlc-notebooks.readthedocs.io/en/latest/tutorial_notebooks/tutorial7/GNN_overview.html"
      ],
      "metadata": {
        "id": "X3vmr9peRNod"
      }
    },
    {
      "cell_type": "code",
      "source": [
        ""
      ],
      "metadata": {
        "id": "ie-z3i4SRDya"
      },
      "execution_count": null,
      "outputs": []
    }
  ]
}